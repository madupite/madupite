{
 "cells": [
  {
   "cell_type": "code",
   "execution_count": 1,
   "metadata": {},
   "outputs": [],
   "source": [
    "import util as ut"
   ]
  },
  {
   "cell_type": "code",
   "execution_count": 2,
   "metadata": {},
   "outputs": [
    {
     "name": "stdout",
     "output_type": "stream",
     "text": [
      "File contains info for 2 MDPs.\n"
     ]
    }
   ],
   "source": [
    "mdp = ut.get_file(\"2_mdps.pickle\")\n",
    "print(f\"File contains info for {len(mdp)} MDPs.\")"
   ]
  },
  {
   "cell_type": "code",
   "execution_count": 3,
   "metadata": {},
   "outputs": [],
   "source": [
    "flight_index = 0\n",
    "costs = mdp[flight_index][1][1]\n",
    "actions = mdp[flight_index][1][3]\n",
    "probabilities = mdp[flight_index][1][5]"
   ]
  },
  {
   "cell_type": "code",
   "execution_count": 4,
   "metadata": {},
   "outputs": [
    {
     "name": "stdout",
     "output_type": "stream",
     "text": [
      "Time horizon: 24\n"
     ]
    }
   ],
   "source": [
    "# time horizon\n",
    "T = len(costs)\n",
    "print(f\"Time horizon: {T}\")"
   ]
  },
  {
   "attachments": {},
   "cell_type": "markdown",
   "metadata": {},
   "source": [
    "Find maximum number of neighbors to determine size of action space:"
   ]
  },
  {
   "cell_type": "code",
   "execution_count": 5,
   "metadata": {},
   "outputs": [
    {
     "name": "stdout",
     "output_type": "stream",
     "text": [
      "Max number of neighbors: 75\n"
     ]
    }
   ],
   "source": [
    "max_num_neighbors = 0\n",
    "for t in range(T):\n",
    "    list_lengths = [len(lst) for lst in actions[t].values()]\n",
    "    max_num_neighbors = max(max_num_neighbors, max(list_lengths))\n",
    "print(f\"Max number of neighbors: {max_num_neighbors}\")\n",
    "numActions = max_num_neighbors"
   ]
  },
  {
   "attachments": {},
   "cell_type": "markdown",
   "metadata": {},
   "source": [
    "Compute set of states (all visible neighbors for all timesteps, with duplicates removed). Then map set (with missing values) to range 0 to n-1, in order to reduce matrix size"
   ]
  },
  {
   "cell_type": "code",
   "execution_count": 6,
   "metadata": {},
   "outputs": [
    {
     "data": {
      "text/plain": [
       "True"
      ]
     },
     "execution_count": 6,
     "metadata": {},
     "output_type": "execute_result"
    }
   ],
   "source": [
    "# Find all visible states for all time steps\n",
    "states = set(key for state_at_time in actions for key in state_at_time.keys())\n",
    "s2i = {value: index for index, value in enumerate(states)}\n",
    "i2s = {index: value for index, value in enumerate(states)}\n",
    "i2s[s2i[13558]] == 13558 # sanity check"
   ]
  },
  {
   "attachments": {},
   "cell_type": "markdown",
   "metadata": {},
   "source": [
    "Data set checks"
   ]
  },
  {
   "cell_type": "code",
   "execution_count": 7,
   "metadata": {},
   "outputs": [],
   "source": [
    "# Check data set consistency: every (state, action) pair has #transitions == #neighbors == #actions\n",
    "for t in range(T):\n",
    "    visible_states = actions[t].keys()\n",
    "    for state in visible_states:\n",
    "        #print(f\"({t}, {state}):      {actions[t][state]}\")\n",
    "        n = len(actions[t][state])\n",
    "        for action in range(n):\n",
    "            assert len(probabilities[t][(state, action)]) == n"
   ]
  },
  {
   "cell_type": "code",
   "execution_count": 8,
   "metadata": {},
   "outputs": [],
   "source": [
    "# Check that all probabilities sum to 1\n",
    "for t in range(T):\n",
    "    visible_states = actions[t].keys()\n",
    "    for state in visible_states:\n",
    "        n = len(actions[t][state])\n",
    "        for action in range(n):\n",
    "            assert abs(sum(probabilities[t][(state, action)]) - 1) < 1e-6"
   ]
  },
  {
   "cell_type": "code",
   "execution_count": 9,
   "metadata": {},
   "outputs": [
    {
     "name": "stdout",
     "output_type": "stream",
     "text": [
      "[0.95, 0, 0, 0.050000000000000044, 0, 0, 0, 0, 0, 0, 0, 0, 0]\n",
      "[11522, 11524, 15241, 13558, 11523, 15240, 10, 14, 13547, 13546, 13548, 12, 15242]\n",
      "insert 0.95 at index 8362\n",
      "insert 0 at index 8364\n",
      "insert 0 at index 10862\n",
      "insert 0.050000000000000044 at index 9704\n",
      "insert 0 at index 8363\n",
      "insert 0 at index 10861\n",
      "insert 0 at index 8\n",
      "insert 0 at index 12\n",
      "insert 0 at index 9694\n",
      "insert 0 at index 9693\n",
      "insert 0 at index 9695\n",
      "insert 0 at index 10\n",
      "insert 0 at index 10863\n"
     ]
    }
   ],
   "source": [
    "# row of transition matrix for state 13558 action 0, time 0\n",
    "print(probabilities[0][(13558, 0)])\n",
    "\n",
    "# neighbors of state 13558\n",
    "print(actions[0][13558])\n",
    "\n",
    "# example insertion into non-flattened transition probability tensor\n",
    "for i in range(len(actions[0][13558])):\n",
    "    print(f\"insert {probabilities[0][(13558, 0)][i]} at index {s2i[actions[0][13558][i]]}\")"
   ]
  }
 ],
 "metadata": {
  "kernelspec": {
   "display_name": "base",
   "language": "python",
   "name": "python3"
  },
  "language_info": {
   "codemirror_mode": {
    "name": "ipython",
    "version": 3
   },
   "file_extension": ".py",
   "mimetype": "text/x-python",
   "name": "python",
   "nbconvert_exporter": "python",
   "pygments_lexer": "ipython3",
   "version": "3.11.4"
  },
  "orig_nbformat": 4
 },
 "nbformat": 4,
 "nbformat_minor": 2
}
