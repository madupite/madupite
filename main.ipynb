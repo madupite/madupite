{
 "cells": [
  {
   "cell_type": "code",
   "execution_count": 56,
   "metadata": {},
   "outputs": [],
   "source": [
    "import util as ut"
   ]
  },
  {
   "cell_type": "code",
   "execution_count": 57,
   "metadata": {},
   "outputs": [
    {
     "name": "stdout",
     "output_type": "stream",
     "text": [
      "File contains info for 2 MDPs.\n"
     ]
    }
   ],
   "source": [
    "mdp = ut.get_file(\"2_mdps.pickle\")\n",
    "print(f\"File contains info for {len(mdp)} MDPs.\")"
   ]
  },
  {
   "cell_type": "code",
   "execution_count": 58,
   "metadata": {},
   "outputs": [],
   "source": [
    "flight_index = 0\n",
    "costs = mdp[flight_index][1][1]\n",
    "actions = mdp[flight_index][1][3]\n",
    "probabilities = mdp[flight_index][1][5]"
   ]
  },
  {
   "cell_type": "code",
   "execution_count": 59,
   "metadata": {},
   "outputs": [
    {
     "name": "stdout",
     "output_type": "stream",
     "text": [
      "Time horizon: 24\n"
     ]
    }
   ],
   "source": [
    "# time horizon\n",
    "T = len(costs)\n",
    "print(f\"Time horizon: {T}\")"
   ]
  },
  {
   "attachments": {},
   "cell_type": "markdown",
   "metadata": {},
   "source": [
    "Find maximum number of neighbors to determine size of action space:"
   ]
  },
  {
   "cell_type": "code",
   "execution_count": 60,
   "metadata": {},
   "outputs": [
    {
     "name": "stdout",
     "output_type": "stream",
     "text": [
      "Max number of neighbors: 75\n"
     ]
    }
   ],
   "source": [
    "max_num_neighbors = 0\n",
    "for t in range(T):\n",
    "    list_lengths = [len(lst) for lst in actions[t].values()]\n",
    "    max_num_neighbors = max(max_num_neighbors, max(list_lengths))\n",
    "print(f\"Max number of neighbors: {max_num_neighbors}\")\n",
    "numActions = max_num_neighbors"
   ]
  },
  {
   "attachments": {},
   "cell_type": "markdown",
   "metadata": {},
   "source": [
    "Compute set of states (all visible neighbors for all timesteps, with duplicates removed). Then map set (with missing values) to range 0 to n-1, in order to reduce matrix size"
   ]
  },
  {
   "cell_type": "code",
   "execution_count": 61,
   "metadata": {},
   "outputs": [
    {
     "name": "stdout",
     "output_type": "stream",
     "text": [
      "Number of states: 10867\n"
     ]
    }
   ],
   "source": [
    "# Find all visible states for all time steps\n",
    "states = set(key for state_at_time in actions for key in state_at_time.keys())\n",
    "s2i = {value: index for index, value in enumerate(states)}\n",
    "i2s = {index: value for index, value in enumerate(states)}\n",
    "i2s[s2i[13558]] == 13558 # sanity check\n",
    "numStates = len(states)\n",
    "print(f\"Number of states: {numStates}\")"
   ]
  },
  {
   "attachments": {},
   "cell_type": "markdown",
   "metadata": {},
   "source": [
    "Data set checks"
   ]
  },
  {
   "cell_type": "code",
   "execution_count": 62,
   "metadata": {},
   "outputs": [],
   "source": [
    "# Check data set consistency: every (state, action) pair has #transitions == #neighbors == #actions\n",
    "for t in range(T):\n",
    "    visible_states = actions[t].keys()\n",
    "    for state in visible_states:\n",
    "        #print(f\"({t}, {state}):      {actions[t][state]}\")\n",
    "        n = len(actions[t][state])\n",
    "        for action in range(n):\n",
    "            assert len(probabilities[t][(state, action)]) == n"
   ]
  },
  {
   "cell_type": "code",
   "execution_count": 63,
   "metadata": {},
   "outputs": [],
   "source": [
    "# Check that all probabilities sum to 1\n",
    "for t in range(T):\n",
    "    visible_states = actions[t].keys()\n",
    "    for state in visible_states:\n",
    "        n = len(actions[t][state])\n",
    "        for action in range(n):\n",
    "            assert abs(sum(probabilities[t][(state, action)]) - 1) < 1e-6"
   ]
  },
  {
   "cell_type": "code",
   "execution_count": 64,
   "metadata": {},
   "outputs": [
    {
     "name": "stdout",
     "output_type": "stream",
     "text": [
      "[0.95, 0, 0, 0.050000000000000044, 0, 0, 0, 0, 0, 0, 0, 0, 0]\n",
      "[11522, 11524, 15241, 13558, 11523, 15240, 10, 14, 13547, 13546, 13548, 12, 15242]\n",
      "insert 0.95 at index 8362\n",
      "insert 0.050000000000000044 at index 9704\n"
     ]
    }
   ],
   "source": [
    "# row of transition matrix for state 13558 action 0, time 0\n",
    "print(probabilities[0][(13558, 0)])\n",
    "\n",
    "# neighbors of state 13558\n",
    "print(actions[0][13558])\n",
    "\n",
    "# example insertion into non-flattened transition probability tensor\n",
    "for i in range(len(actions[0][13558])):\n",
    "    if probabilities[0][(13558, 0)][i] > 0: # don't insert 0 probabilities\n",
    "        print(f\"insert {probabilities[0][(13558, 0)][i]} at index {s2i[actions[0][13558][i]]}\")"
   ]
  },
  {
   "cell_type": "code",
   "execution_count": 65,
   "metadata": {},
   "outputs": [],
   "source": [
    "# Mappping for flattened transition probability tensor (uses state index instead of state id!)\n",
    "def global_row_P(time, state, action):\n",
    "    return time * numStates * numActions + state * numActions + action\n",
    "\n",
    "def inv_global_row_P(index):\n",
    "    time = index // (numStates * numActions)\n",
    "    state = (index % (numStates * numActions)) // numActions\n",
    "    action = index % numActions\n",
    "    return time, state, action\n",
    "\n",
    "# Col mappings for flattened transition probability tensor (also row mapping for stage cost matrix)\n",
    "def global_col_P(time, state):\n",
    "    return time * numStates + state\n",
    "\n",
    "def inv_global_col_P(index):\n",
    "    time = index // numStates\n",
    "    state = index % numStates\n",
    "    return time, state"
   ]
  },
  {
   "cell_type": "markdown",
   "metadata": {},
   "source": [
    "Create scipy transition probability matrix"
   ]
  },
  {
   "cell_type": "code",
   "execution_count": 66,
   "metadata": {},
   "outputs": [
    {
     "name": "stdout",
     "output_type": "stream",
     "text": [
      "(19560600, 260808)\n",
      "(19560600, 260808)\n"
     ]
    }
   ],
   "source": [
    "import numpy as np\n",
    "import scipy.sparse as sp\n",
    "\n",
    "# Prepare lists for row indices, column indices and values\n",
    "rows = []\n",
    "cols = []\n",
    "values = []\n",
    "\n",
    "# fill in values\n",
    "for t in range(T):\n",
    "    visible_states = actions[t].keys()\n",
    "    for s in visible_states:\n",
    "        neighbors_ts = actions[t][s]\n",
    "        numActions_ts = len(neighbors_ts)\n",
    "        for a in range(numActions_ts):\n",
    "            row = global_row_P(t, s2i[s], a)\n",
    "            probs_tsa = probabilities[t][(s, a)]\n",
    "            # filter out 0 probabilities\n",
    "            vals = [p for p, c in zip(probs_tsa, neighbors_ts) if p > 0]\n",
    "            col_indices = [global_col_P(t, s2i[c]) for p, c in zip(probs_tsa, neighbors_ts) if p > 0]\n",
    "\n",
    "            # We add the row index to 'rows' as many times as there are values for that row\n",
    "            rows.extend([row] * len(vals))\n",
    "            cols.extend(col_indices)\n",
    "            values.extend(vals)\n",
    "\n",
    "# Create COO matrix\n",
    "P_coo = sp.coo_matrix((values, (rows, cols)), dtype=np.float64, shape=(T * numStates * numActions, T * numStates))\n",
    "print(transitionProbabilityTensor.shape)\n",
    "# Convert to CSR format\n",
    "transitionProbabilityTensor = P_coo.tocsr()\n",
    "print(transitionProbabilityTensor.shape)\n"
   ]
  }
 ],
 "metadata": {
  "kernelspec": {
   "display_name": "base",
   "language": "python",
   "name": "python3"
  },
  "language_info": {
   "codemirror_mode": {
    "name": "ipython",
    "version": 3
   },
   "file_extension": ".py",
   "mimetype": "text/x-python",
   "name": "python",
   "nbconvert_exporter": "python",
   "pygments_lexer": "ipython3",
   "version": "3.11.4"
  },
  "orig_nbformat": 4
 },
 "nbformat": 4,
 "nbformat_minor": 2
}
