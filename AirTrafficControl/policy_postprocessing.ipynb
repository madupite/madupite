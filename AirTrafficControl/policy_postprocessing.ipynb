{
 "cells": [
  {
   "cell_type": "markdown",
   "metadata": {},
   "source": [
    "# Postprocessing of the computed optimal policy"
   ]
  },
  {
   "cell_type": "code",
   "execution_count": 34,
   "metadata": {},
   "outputs": [],
   "source": [
    "import util as ut\n",
    "import numpy as np"
   ]
  },
  {
   "cell_type": "code",
   "execution_count": 35,
   "metadata": {},
   "outputs": [
    {
     "name": "stdout",
     "output_type": "stream",
     "text": [
      "File contains info for 2 flights.\n"
     ]
    }
   ],
   "source": [
    "mdp = ut.get_file(\"2_mdps.pickle\")\n",
    "print(f\"File contains info for {len(mdp)} flights.\")"
   ]
  },
  {
   "cell_type": "code",
   "execution_count": 36,
   "metadata": {},
   "outputs": [],
   "source": [
    "flight_index = 0\n",
    "costs = mdp[flight_index][1][1]\n",
    "actions = mdp[flight_index][1][3]\n",
    "probabilities = mdp[flight_index][1][5]"
   ]
  },
  {
   "cell_type": "code",
   "execution_count": 37,
   "metadata": {},
   "outputs": [
    {
     "name": "stdout",
     "output_type": "stream",
     "text": [
      "Time horizon: 24\n",
      "Max number of neighbors (number of actions needed): 75\n",
      "Number of actual states: 10867\n",
      "Number of states in infinite horizon MDP (S*T): 260808\n"
     ]
    }
   ],
   "source": [
    "# obtain parameters\n",
    "T = len(costs)\n",
    "print(f\"Time horizon: {T}\")\n",
    "\n",
    "max_num_neighbors = 0\n",
    "for t in range(T):\n",
    "    list_lengths = [len(lst) for lst in actions[t].values()]\n",
    "    max_num_neighbors = max(max_num_neighbors, max(list_lengths))\n",
    "print(f\"Max number of neighbors (number of actions needed): {max_num_neighbors}\")\n",
    "numActions = max_num_neighbors\n",
    "\n",
    "# Find all visible states for all time steps\n",
    "states = set(key for state_at_time in actions for key in state_at_time.keys())\n",
    "s2i = {value: index for index, value in enumerate(states)}\n",
    "i2s = {index: value for index, value in enumerate(states)}\n",
    "i2s[s2i[13558]] == 13558 # sanity check\n",
    "numStates = len(states)\n",
    "print(f\"Number of actual states: {numStates}\")\n",
    "print(f\"Number of states in infinite horizon MDP (S*T): {numStates*T}\")"
   ]
  },
  {
   "cell_type": "code",
   "execution_count": null,
   "metadata": {},
   "outputs": [],
   "source": []
  },
  {
   "cell_type": "markdown",
   "metadata": {},
   "source": [
    "Load policy file"
   ]
  },
  {
   "cell_type": "code",
   "execution_count": 38,
   "metadata": {},
   "outputs": [],
   "source": [
    "policy_data = np.loadtxt(f\"out/{flight_index}_policy_NEW.out\", dtype=int)"
   ]
  },
  {
   "cell_type": "markdown",
   "metadata": {},
   "source": [
    "Mappings $\\mathcal{T} \\times \\mathcal{S} \\leftrightarrow \\{0, \\dots, (S\\cdot T) - 1\\}$"
   ]
  },
  {
   "cell_type": "code",
   "execution_count": 39,
   "metadata": {},
   "outputs": [],
   "source": [
    "# Col mappings for flattened transition probability tensor (also row mapping for stage cost matrix)\n",
    "\n",
    "def global_col_P(time, state):\n",
    "    return time * numStates + state\n",
    "\n",
    "def inv_global_col_P(index):\n",
    "    time = index // numStates\n",
    "    state = index % numStates\n",
    "    return time, state"
   ]
  },
  {
   "cell_type": "code",
   "execution_count": null,
   "metadata": {},
   "outputs": [],
   "source": []
  },
  {
   "cell_type": "markdown",
   "metadata": {},
   "source": [
    "#### Extract policy for visible states for each timestep\n",
    "as a list of dictionaries --> usage `policy[t][s]` where `t` is the timestep and `s` must be an element of `actions[t].keys()`"
   ]
  },
  {
   "cell_type": "code",
   "execution_count": 40,
   "metadata": {},
   "outputs": [],
   "source": [
    "policy_a = [] # contains action indices for each (t, s)\n",
    "policy_s = [] # contains state id for each (t, s)\n",
    "\n",
    "for t in range(T):\n",
    "    policy_a.append({})\n",
    "    policy_s.append({})\n",
    "    visible_states = actions[t].keys()\n",
    "\n",
    "    for s in visible_states:\n",
    "        policy_a[t][s] = policy_data[global_col_P(t, s2i[s])]\n",
    "        assert len(actions[t][s]) > policy_a[t][s] # sanity check that action index is valid\n",
    "        policy_s[t][s] = actions[t][s][policy_a[t][s]]\n"
   ]
  },
  {
   "cell_type": "code",
   "execution_count": 41,
   "metadata": {},
   "outputs": [],
   "source": [
    "# absorbing state"
   ]
  },
  {
   "cell_type": "markdown",
   "metadata": {},
   "source": [
    "#### Generate flight trajectories"
   ]
  },
  {
   "cell_type": "code",
   "execution_count": 42,
   "metadata": {},
   "outputs": [],
   "source": [
    "id2name = ut.get_file(\"num2node_dict.pickle\")\n",
    "name2id = ut.get_file(\"node2num_dict.pickle\")"
   ]
  },
  {
   "cell_type": "code",
   "execution_count": 43,
   "metadata": {},
   "outputs": [],
   "source": [
    "def generate_flight_trajectory(start_state_name):\n",
    "    trajectory = [start_state_name]\n",
    "    for t in range(0,T):\n",
    "        trajectory.append(id2name[policy_s[t][name2id[trajectory[-1]]]])\n",
    "    return trajectory\n",
    "\n",
    "def print_trajectory(trajectory):\n",
    "    print(\"{:<7s}{:<10s}{:<10s}\".format(\"Time\", \"Waypoint\", \"Flight level\"))\n",
    "    for t in range(T):\n",
    "        state = trajectory[t]\n",
    "        name, level = state.split(\"_\")\n",
    "        print(\"{:<7d}{:<10s}{:<10s}\".format(t+1, name, level)) # print 1-based time index"
   ]
  },
  {
   "cell_type": "code",
   "execution_count": 47,
   "metadata": {},
   "outputs": [
    {
     "name": "stdout",
     "output_type": "stream",
     "text": [
      "Optimal trajectory for flight 0:\n",
      "--------------------------------\n",
      "Time   Waypoint  Flight level\n",
      "1      VEULE     350       \n",
      "2      INPAX     350       \n",
      "3      RESMI     350       \n",
      "4      KOTAP     350       \n",
      "5      KETEX     350       \n",
      "6      KUSEK     350       \n",
      "7      KOTIS     350       \n",
      "8      KUKOR     350       \n",
      "9      ADEKA     350       \n",
      "10     TIS       350       \n",
      "11     PIMAK     350       \n",
      "12     VEROT     350       \n",
      "13     AGREV     350       \n",
      "14     MTL       350       \n",
      "15     EVALA     300       \n",
      "16     XIRBI     250       \n",
      "17     DOTIG     200       \n",
      "18     VEDIK     150       \n",
      "19     AMFOU     150       \n",
      "20     CUERS     100       \n",
      "21     AMFOU     50        \n",
      "22     TIPIK     50        \n",
      "23     TIPIK     50        \n",
      "24     TIPIK     50        \n"
     ]
    }
   ],
   "source": [
    "traj = generate_flight_trajectory(\"VEULE_350\") # flight 0\n",
    "#traj = generate_flight_trajectory(\"SITET_300\") # flight 1\n",
    "print(f\"Optimal trajectory for flight {flight_index}:\\n{32*'-'}\")\n",
    "print_trajectory(traj)"
   ]
  },
  {
   "cell_type": "code",
   "execution_count": 45,
   "metadata": {},
   "outputs": [
    {
     "data": {
      "text/plain": [
       "5413"
      ]
     },
     "execution_count": 45,
     "metadata": {},
     "output_type": "execute_result"
    }
   ],
   "source": [
    "name2id[\"TIPIK_50\"]"
   ]
  },
  {
   "cell_type": "code",
   "execution_count": 46,
   "metadata": {},
   "outputs": [
    {
     "name": "stdout",
     "output_type": "stream",
     "text": [
      "5370\n",
      "TIPIK_50\n",
      "['TIPIK_100', 'TIPIK_150', 'MEDOK_50', 'UGLET_150', 'GILON_150', 'DGN_100', 'DGN_150', 'MEDOK_100', 'GILON_50', 'CUERS_50', 'GILON_100', 'PERUS_50', 'PERUS_100', 'FMD.A_150', 'UGLET_50', 'UGLET_100', 'DGN_50', 'RUBEB_100', 'FMD.A_50', 'TIPIK_50', 'CUERS_150', 'VEDIK_100', 'VEDIK_50', 'RUBEB_50', 'FMD.A_100', 'CUERS_100', 'VEDIK_150', 'RUBEB_150', 'MEDOK_150', 'PERUS_150']\n",
      "Number of neighbors: 30\n",
      "Action 0: probability [1, 0, 0, 0, 0, 0, 0, 0, 0, 0, 0, 0, 0, 0, 0, 0, 0, 0, 0, 0, 0, 0, 0, 0, 0, 0, 0, 0, 0, 0]\n",
      "Action 1: probability [0, 1, 0, 0, 0, 0, 0, 0, 0, 0, 0, 0, 0, 0, 0, 0, 0, 0, 0, 0, 0, 0, 0, 0, 0, 0, 0, 0, 0, 0]\n",
      "Action 2: probability [0, 0, 1, 0, 0, 0, 0, 0, 0, 0, 0, 0, 0, 0, 0, 0, 0, 0, 0, 0, 0, 0, 0, 0, 0, 0, 0, 0, 0, 0]\n",
      "Action 3: probability [0, 0, 0, 1, 0, 0, 0, 0, 0, 0, 0, 0, 0, 0, 0, 0, 0, 0, 0, 0, 0, 0, 0, 0, 0, 0, 0, 0, 0, 0]\n",
      "Action 4: probability [0, 0, 0, 0, 1, 0, 0, 0, 0, 0, 0, 0, 0, 0, 0, 0, 0, 0, 0, 0, 0, 0, 0, 0, 0, 0, 0, 0, 0, 0]\n",
      "Action 5: probability [0, 0, 0, 0, 0, 1, 0, 0, 0, 0, 0, 0, 0, 0, 0, 0, 0, 0, 0, 0, 0, 0, 0, 0, 0, 0, 0, 0, 0, 0]\n",
      "Action 6: probability [0, 0, 0, 0, 0, 0, 1, 0, 0, 0, 0, 0, 0, 0, 0, 0, 0, 0, 0, 0, 0, 0, 0, 0, 0, 0, 0, 0, 0, 0]\n",
      "Action 7: probability [0, 0, 0, 0, 0, 0, 0, 1, 0, 0, 0, 0, 0, 0, 0, 0, 0, 0, 0, 0, 0, 0, 0, 0, 0, 0, 0, 0, 0, 0]\n",
      "Action 8: probability [0, 0, 0, 0, 0, 0, 0, 0, 1, 0, 0, 0, 0, 0, 0, 0, 0, 0, 0, 0, 0, 0, 0, 0, 0, 0, 0, 0, 0, 0]\n",
      "Action 9: probability [0, 0, 0, 0, 0, 0, 0, 0, 0, 1, 0, 0, 0, 0, 0, 0, 0, 0, 0, 0, 0, 0, 0, 0, 0, 0, 0, 0, 0, 0]\n",
      "Action 10: probability [0, 0, 0, 0, 0, 0, 0, 0, 0, 0, 1, 0, 0, 0, 0, 0, 0, 0, 0, 0, 0, 0, 0, 0, 0, 0, 0, 0, 0, 0]\n",
      "Action 11: probability [0, 0, 0, 0, 0, 0, 0, 0, 0, 0, 0, 1, 0, 0, 0, 0, 0, 0, 0, 0, 0, 0, 0, 0, 0, 0, 0, 0, 0, 0]\n",
      "Action 12: probability [0, 0, 0, 0, 0, 0, 0, 0, 0, 0, 0, 0, 1, 0, 0, 0, 0, 0, 0, 0, 0, 0, 0, 0, 0, 0, 0, 0, 0, 0]\n",
      "Action 13: probability [0, 0, 0, 0, 0, 0, 0, 0, 0, 0, 0, 0, 0, 1, 0, 0, 0, 0, 0, 0, 0, 0, 0, 0, 0, 0, 0, 0, 0, 0]\n",
      "Action 14: probability [0, 0, 0, 0, 0, 0, 0, 0, 0, 0, 0, 0, 0, 0, 1, 0, 0, 0, 0, 0, 0, 0, 0, 0, 0, 0, 0, 0, 0, 0]\n",
      "Action 15: probability [0, 0, 0, 0, 0, 0, 0, 0, 0, 0, 0, 0, 0, 0, 0, 1, 0, 0, 0, 0, 0, 0, 0, 0, 0, 0, 0, 0, 0, 0]\n",
      "Action 16: probability [0, 0, 0, 0, 0, 0, 0, 0, 0, 0, 0, 0, 0, 0, 0, 0, 1, 0, 0, 0, 0, 0, 0, 0, 0, 0, 0, 0, 0, 0]\n",
      "Action 17: probability [0, 0, 0, 0, 0, 0, 0, 0, 0, 0, 0, 0, 0, 0, 0, 0, 0, 1, 0, 0, 0, 0, 0, 0, 0, 0, 0, 0, 0, 0]\n",
      "Action 18: probability [0, 0, 0, 0, 0, 0, 0, 0, 0, 0, 0, 0, 0, 0, 0, 0, 0, 0, 1, 0, 0, 0, 0, 0, 0, 0, 0, 0, 0, 0]\n",
      "Action 19: probability [0, 0, 0, 0, 0, 0, 0, 0, 0, 0, 0, 0, 0, 0, 0, 0, 0, 0, 0, 1, 0, 0, 0, 0, 0, 0, 0, 0, 0, 0]\n",
      "Action 20: probability [0, 0, 0, 0, 0, 0, 0, 0, 0, 0, 0, 0, 0, 0, 0, 0, 0, 0, 0, 0, 1, 0, 0, 0, 0, 0, 0, 0, 0, 0]\n",
      "Action 21: probability [0, 0, 0, 0, 0, 0, 0, 0, 0, 0, 0, 0, 0, 0, 0, 0, 0, 0, 0, 0, 0, 1, 0, 0, 0, 0, 0, 0, 0, 0]\n",
      "Action 22: probability [0, 0, 0, 0, 0, 0, 0, 0, 0, 0, 0, 0, 0, 0, 0, 0, 0, 0, 0, 0, 0, 0, 1, 0, 0, 0, 0, 0, 0, 0]\n",
      "Action 23: probability [0, 0, 0, 0, 0, 0, 0, 0, 0, 0, 0, 0, 0, 0, 0, 0, 0, 0, 0, 0, 0, 0, 0, 1, 0, 0, 0, 0, 0, 0]\n",
      "Action 24: probability [0, 0, 0, 0, 0, 0, 0, 0, 0, 0, 0, 0, 0, 0, 0, 0, 0, 0, 0, 0, 0, 0, 0, 0, 1, 0, 0, 0, 0, 0]\n",
      "Action 25: probability [0, 0, 0, 0, 0, 0, 0, 0, 0, 0, 0, 0, 0, 0, 0, 0, 0, 0, 0, 0, 0, 0, 0, 0, 0, 1, 0, 0, 0, 0]\n",
      "Action 26: probability [0, 0, 0, 0, 0, 0, 0, 0, 0, 0, 0, 0, 0, 0, 0, 0, 0, 0, 0, 0, 0, 0, 0, 0, 0, 0, 1, 0, 0, 0]\n",
      "Action 27: probability [0, 0, 0, 0, 0, 0, 0, 0, 0, 0, 0, 0, 0, 0, 0, 0, 0, 0, 0, 0, 0, 0, 0, 0, 0, 0, 0, 1, 0, 0]\n",
      "Action 28: probability [0, 0, 0, 0, 0, 0, 0, 0, 0, 0, 0, 0, 0, 0, 0, 0, 0, 0, 0, 0, 0, 0, 0, 0, 0, 0, 0, 0, 1, 0]\n",
      "Action 29: probability [0, 0, 0, 0, 0, 0, 0, 0, 0, 0, 0, 0, 0, 0, 0, 0, 0, 0, 0, 0, 0, 0, 0, 0, 0, 0, 0, 0, 0, 1]\n"
     ]
    }
   ],
   "source": [
    "time = 18\n",
    "loc = \"AMFOU_100\"\n",
    "print(name2id[loc])\n",
    "print(id2name[5413])\n",
    "\n",
    "print([id2name[i] for i in actions[time][name2id[loc]]])\n",
    "nbrs = len(actions[time][name2id[loc]])\n",
    "print(f\"Number of neighbors: {nbrs}\")\n",
    "\n",
    "for a in range(nbrs):\n",
    "    print(f\"Action {a}: probability {probabilities[time][(name2id[loc],a)]}\")"
   ]
  },
  {
   "cell_type": "code",
   "execution_count": null,
   "metadata": {},
   "outputs": [],
   "source": []
  }
 ],
 "metadata": {
  "kernelspec": {
   "display_name": "Python 3",
   "language": "python",
   "name": "python3"
  },
  "language_info": {
   "codemirror_mode": {
    "name": "ipython",
    "version": 3
   },
   "file_extension": ".py",
   "mimetype": "text/x-python",
   "name": "python",
   "nbconvert_exporter": "python",
   "pygments_lexer": "ipython3",
   "version": "3.11.4"
  },
  "orig_nbformat": 4
 },
 "nbformat": 4,
 "nbformat_minor": 2
}
