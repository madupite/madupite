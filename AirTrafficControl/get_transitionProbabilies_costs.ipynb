{
 "cells": [
  {
   "cell_type": "markdown",
   "metadata": {},
   "source": [
    "# Extracting the transition probabilities and costs from the model"
   ]
  },
  {
   "cell_type": "code",
   "execution_count": 1,
   "metadata": {},
   "outputs": [],
   "source": [
    "import util as ut"
   ]
  },
  {
   "cell_type": "code",
   "execution_count": 2,
   "metadata": {},
   "outputs": [
    {
     "name": "stdout",
     "output_type": "stream",
     "text": [
      "File contains info for 2 MDPs.\n"
     ]
    }
   ],
   "source": [
    "mdp = ut.get_file(\"2_mdps.pickle\")\n",
    "print(f\"File contains info for {len(mdp)} MDPs.\")"
   ]
  },
  {
   "cell_type": "code",
   "execution_count": 3,
   "metadata": {},
   "outputs": [],
   "source": [
    "flight_index = 0\n",
    "costs = mdp[flight_index][1][1]\n",
    "actions = mdp[flight_index][1][3]\n",
    "probabilities = mdp[flight_index][1][5]"
   ]
  },
  {
   "cell_type": "code",
   "execution_count": 4,
   "metadata": {},
   "outputs": [
    {
     "name": "stdout",
     "output_type": "stream",
     "text": [
      "Time horizon: 24\n"
     ]
    }
   ],
   "source": [
    "# time horizon\n",
    "T = len(costs)\n",
    "print(f\"Time horizon: {T}\")"
   ]
  },
  {
   "attachments": {},
   "cell_type": "markdown",
   "metadata": {},
   "source": [
    "Find maximum number of neighbors to determine size of action space:"
   ]
  },
  {
   "cell_type": "code",
   "execution_count": 5,
   "metadata": {},
   "outputs": [
    {
     "name": "stdout",
     "output_type": "stream",
     "text": [
      "Max number of neighbors: 75\n"
     ]
    }
   ],
   "source": [
    "max_num_neighbors = 0\n",
    "for t in range(T):\n",
    "    list_lengths = [len(lst) for lst in actions[t].values()]\n",
    "    max_num_neighbors = max(max_num_neighbors, max(list_lengths))\n",
    "print(f\"Max number of neighbors: {max_num_neighbors}\")\n",
    "numActions = max_num_neighbors"
   ]
  },
  {
   "attachments": {},
   "cell_type": "markdown",
   "metadata": {},
   "source": [
    "Compute set of states (all visible neighbors for all timesteps, with duplicates removed). Then map set (with missing values) to range 0 to n-1, in order to reduce matrix size\n",
    "\n",
    "(my) naming convention: state ID refers to the numbering in the model, state index refers to the numbering in the matrix (i.e. refers to visible states over all timesteps for one given flight)"
   ]
  },
  {
   "cell_type": "code",
   "execution_count": 6,
   "metadata": {},
   "outputs": [
    {
     "name": "stdout",
     "output_type": "stream",
     "text": [
      "Number of actual states: 10867\n",
      "Number of states in infinite horizon MDP (S*T): 260808\n"
     ]
    }
   ],
   "source": [
    "# Find all visible states for all time steps\n",
    "states = set(key for state_at_time in actions for key in state_at_time.keys())\n",
    "s2i = {value: index for index, value in enumerate(states)} # state id to index\n",
    "i2s = {index: value for index, value in enumerate(states)} # index to state id\n",
    "numStates = len(states)\n",
    "print(f\"Number of actual states: {numStates}\")\n",
    "print(f\"Number of states in infinite horizon MDP (S*T): {numStates*T}\")"
   ]
  },
  {
   "attachments": {},
   "cell_type": "markdown",
   "metadata": {},
   "source": [
    "Data set checks"
   ]
  },
  {
   "cell_type": "code",
   "execution_count": 7,
   "metadata": {},
   "outputs": [],
   "source": [
    "# Check data set consistency: every (state, action) pair has #transitions == #neighbors == #actions\n",
    "for t in range(T):\n",
    "    visible_states = actions[t].keys()\n",
    "    for state in visible_states:\n",
    "        #print(f\"({t}, {state}):      {actions[t][state]}\")\n",
    "        n = len(actions[t][state])\n",
    "        for action in range(n):\n",
    "            assert len(probabilities[t][(state, action)]) == n"
   ]
  },
  {
   "cell_type": "code",
   "execution_count": 8,
   "metadata": {},
   "outputs": [],
   "source": [
    "# Check that all probabilities sum to 1\n",
    "for t in range(T):\n",
    "    visible_states = actions[t].keys()\n",
    "    for state in visible_states:\n",
    "        n = len(actions[t][state])\n",
    "        for action in range(n):\n",
    "            assert abs(sum(probabilities[t][(state, action)]) - 1) < 1e-6"
   ]
  },
  {
   "cell_type": "markdown",
   "metadata": {},
   "source": [
    "usage example:"
   ]
  },
  {
   "cell_type": "code",
   "execution_count": 9,
   "metadata": {},
   "outputs": [
    {
     "name": "stdout",
     "output_type": "stream",
     "text": [
      "[0.95, 0, 0, 0.050000000000000044, 0, 0, 0, 0, 0, 0, 0, 0, 0]\n",
      "[11522, 11524, 15241, 13558, 11523, 15240, 10, 14, 13547, 13546, 13548, 12, 15242]\n",
      "insert 0.95 at col index 8362\n",
      "insert 0.050000000000000044 at col index 9704\n"
     ]
    }
   ],
   "source": [
    "# row of transition matrix for state id 13558 action 0, time 0\n",
    "print(probabilities[0][(13558, 0)])\n",
    "\n",
    "# neighbors of state 13558\n",
    "print(actions[0][13558])\n",
    "\n",
    "# example insertion into non-flattened transition probability tensor\n",
    "for i in range(len(actions[0][13558])):\n",
    "    if probabilities[0][(13558, 0)][i] > 0: # don't insert 0 probabilities (not necessary in a sparse matrix)\n",
    "        print(f\"insert {probabilities[0][(13558, 0)][i]} at col index {s2i[actions[0][13558][i]]}\")"
   ]
  },
  {
   "cell_type": "markdown",
   "metadata": {},
   "source": [
    "#### Mappings for transition probabilities and stage costs\n",
    "\n",
    "Transition probabilitiy tensor $\\mathcal{P} \\in [0,1]^{\\mathcal{T}\\times\\mathcal{S}\\times\\mathcal{A}\\times\\mathcal{T}\\times\\mathcal{S}}$ must be flattened into a 2D matrix by combining time, start state and actions into one index for the rows. Similarly for the cols, where time and start state are combined into one index.\n",
    "\n",
    "Since the flattened transition probability matrix $P \\in [0,1]^{\\mathcal{TSA}\\times\\mathcal{TS}}$ has the same number of columns as the stage cost matrix $g \\in \\mathbb{R}^{\\mathcal{TS}\\times\\mathcal{A}}$, the same mapping can be used for both."
   ]
  },
  {
   "cell_type": "code",
   "execution_count": 10,
   "metadata": {},
   "outputs": [],
   "source": [
    "# Mappping for flattened transition probability tensor (uses state index instead of state id!)\n",
    "def global_row_P(time, state, action):\n",
    "    return time * numStates * numActions + state * numActions + action\n",
    "\n",
    "def inv_global_row_P(index):\n",
    "    time = index // (numStates * numActions)\n",
    "    state = (index % (numStates * numActions)) // numActions\n",
    "    action = index % numActions\n",
    "    return time, state, action\n",
    "\n",
    "# Col mappings for flattened transition probability tensor (also row mapping for stage cost matrix)\n",
    "def global_col_P(time, state):\n",
    "    return time * numStates + state\n",
    "\n",
    "def inv_global_col_P(index):\n",
    "    time = index // numStates\n",
    "    state = index % numStates\n",
    "    return time, state"
   ]
  },
  {
   "cell_type": "markdown",
   "metadata": {},
   "source": [
    "Create scipy transition probability matrix. Rows corresponding to infeasible actions are empty."
   ]
  },
  {
   "cell_type": "code",
   "execution_count": 11,
   "metadata": {},
   "outputs": [
    {
     "name": "stdout",
     "output_type": "stream",
     "text": [
      "(19560600, 260808)\n",
      "(19560600, 260808)\n"
     ]
    }
   ],
   "source": [
    "import numpy as np\n",
    "import scipy.sparse as sp\n",
    "\n",
    "# Prepare lists for row indices, column indices and values\n",
    "rows = []\n",
    "cols = []\n",
    "values = []\n",
    "\n",
    "# fill in values\n",
    "for t in range(T):\n",
    "    visible_states = actions[t].keys()\n",
    "    for s in visible_states:\n",
    "        neighbors_ts = actions[t][s]\n",
    "        numActions_ts = len(neighbors_ts)\n",
    "        for a in range(numActions_ts):\n",
    "            row = global_row_P(t, s2i[s], a)\n",
    "            probs_tsa = probabilities[t][(s, a)]\n",
    "            # filter out 0 probabilities\n",
    "            vals = [p for p, c in zip(probs_tsa, neighbors_ts) if p > 0]\n",
    "            col_indices = [global_col_P(t, s2i[c]) for p, c in zip(probs_tsa, neighbors_ts) if p > 0]\n",
    "\n",
    "            # We add the row index to 'rows' as many times as there are values for that row\n",
    "            rows.extend([row] * len(vals))\n",
    "            cols.extend(col_indices)\n",
    "            values.extend(vals)\n",
    "\n",
    "# Create COO matrix\n",
    "P_coo = sp.coo_matrix((values, (rows, cols)), dtype=np.float64, shape=(T * numStates * numActions, T * numStates))\n",
    "print(P_coo.shape)\n",
    "# Convert to CSR format\n",
    "transitionProbabilityTensor = P_coo.tocsr()\n",
    "print(transitionProbabilityTensor.shape)\n"
   ]
  },
  {
   "cell_type": "markdown",
   "metadata": {},
   "source": [
    "Generate stage cost matrix, set costs for infeasible actions to infinity"
   ]
  },
  {
   "cell_type": "code",
   "execution_count": 12,
   "metadata": {},
   "outputs": [
    {
     "name": "stdout",
     "output_type": "stream",
     "text": [
      "(260808, 75)\n",
      "(260808, 75)\n"
     ]
    }
   ],
   "source": [
    "# stage cost matrix (T * numStates x numActions)\n",
    "\n",
    "inf = 1e10\n",
    "\n",
    "rows = []\n",
    "cols = []\n",
    "values = []\n",
    "\n",
    "for t in range(T):\n",
    "    visible_states = actions[t].keys()\n",
    "    for s in range(numStates):\n",
    "        if i2s[s] in visible_states:\n",
    "            row = global_col_P(t, s)\n",
    "            for a in range(numActions): # need to iterate over all actions, not just neighbors_ts!\n",
    "                rows.append(row)\n",
    "                cols.append(a)\n",
    "                values.append(costs[t].get((i2s[s], a), inf)) # cost is inf if action is not feasible\n",
    "    \n",
    "        else: # fill row with inf\n",
    "            row = global_col_P(t, s)\n",
    "            for a in range(numActions):\n",
    "                rows.append(row)\n",
    "                cols.append(a)\n",
    "                values.append(inf)\n",
    "\n",
    "g_coo = sp.coo_matrix((values, (rows, cols)), dtype=np.float64, shape=(T * numStates, numActions))\n",
    "print(g_coo.shape)\n",
    "stageCostMatrix = g_coo.tocsr()\n",
    "print(stageCostMatrix.shape)"
   ]
  },
  {
   "cell_type": "code",
   "execution_count": 13,
   "metadata": {},
   "outputs": [
    {
     "data": {
      "image/png": "[encoded data removed]",
      "text/plain": [
       "<Figure size 1000x1000 with 1 Axes>"
      ]
     },
     "metadata": {},
     "output_type": "display_data"
    }
   ],
   "source": [
    "from matplotlib import pyplot as plt\n",
    "\n",
    "fig, ax = plt.subplots(figsize=(10, 10))\n",
    "ax.spy(transitionProbabilityTensor, markersize=0.1)\n",
    "ax.set_aspect('auto') # image is now square even though matrix is not!! Remove this line for original aspect ratio\n",
    "plt.show()"
   ]
  },
  {
   "cell_type": "markdown",
   "metadata": {},
   "source": [
    "Save transition probabilities and stage costs in PETSc binary format"
   ]
  },
  {
   "cell_type": "code",
   "execution_count": 14,
   "metadata": {},
   "outputs": [],
   "source": [
    "from save_matrix import *\n",
    "import os\n",
    "\n",
    "# write transition probability tensor\n",
    "if not os.path.exists(\"data\"):\n",
    "    os.makedirs(\"data\")\n",
    "writeBinarySparseMatrix(transitionProbabilityTensor, os.path.join(\"data\", \"P.bin\"))\n",
    "writeBinaryDenseMatrix(stageCostMatrix, os.path.join(\"data\", \"g.bin\"))"
   ]
  }
 ],
 "metadata": {
  "kernelspec": {
   "display_name": "base",
   "language": "python",
   "name": "python3"
  },
  "language_info": {
   "codemirror_mode": {
    "name": "ipython",
    "version": 3
   },
   "file_extension": ".py",
   "mimetype": "text/x-python",
   "name": "python",
   "nbconvert_exporter": "python",
   "pygments_lexer": "ipython3",
   "version": "3.11.4"
  },
  "orig_nbformat": 4
 },
 "nbformat": 4,
 "nbformat_minor": 2
}
