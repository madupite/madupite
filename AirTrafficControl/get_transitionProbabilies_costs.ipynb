{
 "cells": [
  {
   "cell_type": "markdown",
   "metadata": {},
   "source": [
    "# Extracting the transition probabilities and costs from the model"
   ]
  },
  {
   "cell_type": "code",
   "execution_count": 57,
   "metadata": {},
   "outputs": [],
   "source": [
    "import util as ut"
   ]
  },
  {
   "cell_type": "code",
   "execution_count": 58,
   "metadata": {},
   "outputs": [
    {
     "name": "stdout",
     "output_type": "stream",
     "text": [
      "File contains info for 2 MDPs.\n"
     ]
    }
   ],
   "source": [
    "mdp = ut.get_file(\"2_mdps.pickle\")\n",
    "print(f\"File contains info for {len(mdp)} MDPs.\")"
   ]
  },
  {
   "cell_type": "code",
   "execution_count": 59,
   "metadata": {},
   "outputs": [],
   "source": [
    "flight_index = 0\n",
    "costs = mdp[flight_index][1][1]\n",
    "actions = mdp[flight_index][1][3]\n",
    "probabilities = mdp[flight_index][1][5]"
   ]
  },
  {
   "cell_type": "code",
   "execution_count": 61,
   "metadata": {},
   "outputs": [
    {
     "name": "stdout",
     "output_type": "stream",
     "text": [
      "Time horizon: 24\n"
     ]
    }
   ],
   "source": [
    "# time horizon\n",
    "T = len(costs)\n",
    "print(f\"Time horizon: {T}\")"
   ]
  },
  {
   "attachments": {},
   "cell_type": "markdown",
   "metadata": {},
   "source": [
    "Find maximum number of neighbors to determine size of action space:"
   ]
  },
  {
   "cell_type": "code",
   "execution_count": 62,
   "metadata": {},
   "outputs": [
    {
     "name": "stdout",
     "output_type": "stream",
     "text": [
      "Max number of neighbors: 75\n"
     ]
    }
   ],
   "source": [
    "max_num_neighbors = 0\n",
    "for t in range(T):\n",
    "    list_lengths = [len(lst) for lst in actions[t].values()]\n",
    "    max_num_neighbors = max(max_num_neighbors, max(list_lengths))\n",
    "print(f\"Max number of neighbors: {max_num_neighbors}\")\n",
    "numActions = max_num_neighbors"
   ]
  },
  {
   "attachments": {},
   "cell_type": "markdown",
   "metadata": {},
   "source": [
    "Compute set of states (all visible neighbors for all timesteps, with duplicates removed). Then map set (with missing values) to range 0 to n-1, in order to reduce matrix size\n",
    "\n",
    "(my) naming convention: state ID refers to the numbering in the model, state index refers to the numbering in the matrix (i.e. refers to visible states over all timesteps for one given flight)"
   ]
  },
  {
   "cell_type": "code",
   "execution_count": 63,
   "metadata": {},
   "outputs": [
    {
     "name": "stdout",
     "output_type": "stream",
     "text": [
      "Number of actual states: 10867\n",
      "Number of states in infinite horizon MDP (S*T): 260808\n"
     ]
    }
   ],
   "source": [
    "# Find all visible states for all time steps\n",
    "states = set(key for state_at_time in actions for key in state_at_time.keys())\n",
    "s2i = {value: index for index, value in enumerate(states)} # state id to index\n",
    "i2s = {index: value for index, value in enumerate(states)} # index to state id\n",
    "numStates = len(states)\n",
    "print(f\"Number of actual states: {numStates}\")\n",
    "print(f\"Number of states in infinite horizon MDP (S*T): {numStates*T}\")"
   ]
  },
  {
   "attachments": {},
   "cell_type": "markdown",
   "metadata": {},
   "source": [
    "Data set checks"
   ]
  },
  {
   "cell_type": "code",
   "execution_count": 64,
   "metadata": {},
   "outputs": [],
   "source": [
    "# Check data set consistency: every (state, action) pair has #transitions == #neighbors == #actions\n",
    "for t in range(T):\n",
    "    visible_states = actions[t].keys()\n",
    "    for state in visible_states:\n",
    "        #print(f\"({t}, {state}):      {actions[t][state]}\")\n",
    "        n = len(actions[t][state])\n",
    "        for action in range(n):\n",
    "            assert len(probabilities[t][(state, action)]) == n"
   ]
  },
  {
   "cell_type": "code",
   "execution_count": 65,
   "metadata": {},
   "outputs": [],
   "source": [
    "# Check that all probabilities sum to 1\n",
    "for t in range(T):\n",
    "    visible_states = actions[t].keys()\n",
    "    for state in visible_states:\n",
    "        n = len(actions[t][state])\n",
    "        for action in range(n):\n",
    "            assert abs(sum(probabilities[t][(state, action)]) - 1) < 1e-6"
   ]
  },
  {
   "cell_type": "markdown",
   "metadata": {},
   "source": [
    "usage example:"
   ]
  },
  {
   "cell_type": "code",
   "execution_count": 66,
   "metadata": {},
   "outputs": [
    {
     "name": "stdout",
     "output_type": "stream",
     "text": [
      "[0, 0, 0, 0.050000000000000044, 0, 0, 0, 0, 0, 0, 0, 0.95, 0]\n",
      "[11522, 11524, 15241, 13558, 11523, 15240, 10, 14, 13547, 13546, 13548, 12, 15242]\n",
      "insert 0.95 at col index 8362\n",
      "insert 0.050000000000000044 at col index 9704\n"
     ]
    }
   ],
   "source": [
    "# row of transition matrix for state id 13558 action 0, time 0\n",
    "print(probabilities[0][(13558, 11)])\n",
    "\n",
    "# neighbors of state 13558\n",
    "print(actions[0][13558])\n",
    "\n",
    "# example insertion into non-flattened transition probability tensor\n",
    "for i in range(len(actions[0][13558])):\n",
    "    if probabilities[0][(13558, 0)][i] > 0: # don't insert 0 probabilities (not necessary in a sparse matrix)\n",
    "        print(f\"insert {probabilities[0][(13558, 0)][i]} at col index {s2i[actions[0][13558][i]]}\")"
   ]
  },
  {
   "cell_type": "code",
   "execution_count": 67,
   "metadata": {},
   "outputs": [],
   "source": [
    "id2name = ut.get_file(\"num2node_dict.pickle\")\n",
    "name2id = ut.get_file(\"node2num_dict.pickle\")"
   ]
  },
  {
   "cell_type": "code",
   "execution_count": 68,
   "metadata": {},
   "outputs": [
    {
     "name": "stdout",
     "output_type": "stream",
     "text": [
      "[0.95, 0.050000000000000044, 0, 0, 0, 0, 0]\n",
      "[14454, 5413, 14456, 5369, 5368, 14455, 5370]\n",
      "MUS01_0\n",
      "[0, 1, 0, 0, 0, 0, 0, 0, 0, 0, 0, 0, 0, 0, 0, 0, 0, 0, 0, 0, 0, 0, 0, 0, 0, 0, 0, 0, 0, 0]\n"
     ]
    }
   ],
   "source": [
    "print(probabilities[23][(5413, 0)]) # TIPIK 50\n",
    "print(actions[23][5413])\n",
    "print(id2name[14454])\n",
    "len(costs)\n",
    "print(probabilities[17][(5370,1)])"
   ]
  },
  {
   "cell_type": "markdown",
   "metadata": {},
   "source": [
    "#### Mappings for transition probabilities and stage costs\n",
    "\n",
    "Transition probabilitiy tensor $\\mathcal{P} \\in [0,1]^{\\mathcal{T}\\times\\mathcal{S}\\times\\mathcal{A}\\times\\mathcal{T}\\times\\mathcal{S}}$ must be flattened into a 2D matrix by combining time, start state and actions into one index for the rows. Similarly for the cols, where time and start state are combined into one index.\n",
    "\n",
    "Since the flattened transition probability matrix $P \\in [0,1]^{\\mathcal{TSA}\\times\\mathcal{TS}}$ has the same number of columns as the stage cost matrix $g \\in \\mathbb{R}^{\\mathcal{TS}\\times\\mathcal{A}}$, the same mapping can be used for both."
   ]
  },
  {
   "cell_type": "code",
   "execution_count": 69,
   "metadata": {},
   "outputs": [],
   "source": [
    "# Mappping for flattened transition probability tensor (uses state index instead of state id!)\n",
    "def global_row_P(time, state, action):\n",
    "    return time * numStates * numActions + state * numActions + action\n",
    "\n",
    "def inv_global_row_P(index):\n",
    "    time = index // (numStates * numActions)\n",
    "    state = (index % (numStates * numActions)) // numActions\n",
    "    action = index % numActions\n",
    "    return time, state, action\n",
    "\n",
    "# Col mappings for flattened transition probability tensor (also row mapping for stage cost matrix)\n",
    "def global_col_P(time, state):\n",
    "    return time * numStates + state\n",
    "\n",
    "def inv_global_col_P(index):\n",
    "    time = index // numStates\n",
    "    state = index % numStates\n",
    "    return time, state"
   ]
  },
  {
   "cell_type": "markdown",
   "metadata": {},
   "source": [
    "Create scipy transition probability matrix. Rows corresponding to infeasible actions are empty."
   ]
  },
  {
   "cell_type": "code",
   "execution_count": 70,
   "metadata": {},
   "outputs": [
    {
     "name": "stdout",
     "output_type": "stream",
     "text": [
      "(19560675, 260809)\n",
      "(19560675, 260809)\n"
     ]
    }
   ],
   "source": [
    "import numpy as np\n",
    "import scipy.sparse as sp\n",
    "\n",
    "# Prepare lists for row indices, column indices and values\n",
    "rows = []\n",
    "cols = []\n",
    "values = []\n",
    "\n",
    "# shape of P (incl. absorbing state)\n",
    "ROWS = T * numStates * numActions + 1 * numActions\n",
    "COLS = T * numStates + 1 \n",
    "\n",
    "\n",
    "# fill in values\n",
    "for t in range(T-1):\n",
    "    visible_states = actions[t].keys()\n",
    "    for s in visible_states:\n",
    "        neighbors_ts = actions[t][s]\n",
    "        numActions_ts = len(neighbors_ts)\n",
    "        for a in range(numActions_ts):\n",
    "            row = global_row_P(t, s2i[s], a)\n",
    "            probs_tsa = probabilities[t][(s, a)]\n",
    "            # filter out 0 probabilities\n",
    "            vals = [p for p, c in zip(probs_tsa, neighbors_ts) if p > 0]\n",
    "            col_indices = [global_col_P(t+1, s2i[c]) for p, c in zip(probs_tsa, neighbors_ts) if p > 0]\n",
    "\n",
    "            # We add the row index to 'rows' as many times as there are values for that row\n",
    "            rows.extend([row] * len(vals))\n",
    "            cols.extend(col_indices)\n",
    "            values.extend(vals)\n",
    "\n",
    "# absorbing state: \n",
    "start_row = global_row_P(T-1, 0, 0)\n",
    "rows.extend([i for i in range(start_row, start_row + (numStates+1)*numActions)])\n",
    "cols.extend([T*numStates] * ((numStates+1)*numActions))\n",
    "values.extend([1] * ((numStates+1)*numActions))\n",
    "\n",
    "\n",
    "\n",
    "\n",
    "# Create COO matrix\n",
    "P_coo = sp.coo_matrix((values, (rows, cols)), dtype=np.float64, shape=(ROWS, COLS))\n",
    "print(P_coo.shape)\n",
    "# Convert to CSR format\n",
    "transitionProbabilityTensor = P_coo.tocsr()\n",
    "print(transitionProbabilityTensor.shape)\n"
   ]
  },
  {
   "cell_type": "code",
   "execution_count": 78,
   "metadata": {},
   "outputs": [
    {
     "data": {
      "image/png": "[encoded data removed]",
      "text/plain": [
       "<Figure size 1000x1000 with 1 Axes>"
      ]
     },
     "metadata": {},
     "output_type": "display_data"
    }
   ],
   "source": [
    "from matplotlib import pyplot as plt\n",
    "\n",
    "fig, ax = plt.subplots(figsize=(10, 10))\n",
    "ax.spy(transitionProbabilityTensor, markersize=0.1)\n",
    "ax.set_aspect('auto') # image is now square even though matrix is not!! Remove this line for original aspect ratio\n",
    "plt.show()"
   ]
  },
  {
   "cell_type": "markdown",
   "metadata": {},
   "source": [
    "Generate stage cost matrix, set costs for infeasible actions to infinity"
   ]
  },
  {
   "cell_type": "code",
   "execution_count": 77,
   "metadata": {},
   "outputs": [
    {
     "name": "stdout",
     "output_type": "stream",
     "text": [
      "(20375625, 271675)\n",
      "(20375625, 271675)\n"
     ]
    }
   ],
   "source": [
    "# approach with (numStates+1) states\n",
    "import numpy as np\n",
    "import scipy.sparse as sp\n",
    "\n",
    "# Prepare lists for row indices, column indices and values\n",
    "rows = []\n",
    "cols = []\n",
    "values = []\n",
    "\n",
    "# shape of P (incl. absorbing state)\n",
    "ROWS = (T+1) * numStates * numActions\n",
    "COLS = (T+1) * numStates \n",
    "\n",
    "\n",
    "# fill in values\n",
    "for t in range(T+1):\n",
    "    if t == T: # absorbing state\n",
    "        for s in range(numStates):\n",
    "            for a in range(numActions):\n",
    "                row = global_row_P(t, s, a)\n",
    "                col = global_col_P(t, s)\n",
    "                rows.append(row)\n",
    "                cols.append(col)\n",
    "                values.append(1)\n",
    "    else:\n",
    "        visible_states = actions[t].keys()\n",
    "        for s in visible_states:\n",
    "            neighbors_ts = actions[t][s]\n",
    "            numActions_ts = len(neighbors_ts)\n",
    "            for a in range(numActions_ts):\n",
    "                row = global_row_P(t, s2i[s], a)\n",
    "                probs_tsa = probabilities[t][(s, a)]\n",
    "                # filter out 0 probabilities\n",
    "                vals = [p for p, c in zip(probs_tsa, neighbors_ts) if p > 0]\n",
    "                col_indices = [global_col_P(t+1, s2i[c]) for p, c in zip(probs_tsa, neighbors_ts) if p > 0]\n",
    "\n",
    "                # We add the row index to 'rows' as many times as there are values for that row\n",
    "                rows.extend([row] * len(vals))\n",
    "                cols.extend(col_indices)\n",
    "                values.extend(vals)\n",
    "\n",
    "\n",
    "\n",
    "# Create COO matrix\n",
    "P_coo = sp.coo_matrix((values, (rows, cols)), dtype=np.float64, shape=(ROWS, COLS))\n",
    "print(P_coo.shape)\n",
    "# Convert to CSR format\n",
    "transitionProbabilityTensor = P_coo.tocsr()\n",
    "print(transitionProbabilityTensor.shape)"
   ]
  },
  {
   "cell_type": "code",
   "execution_count": null,
   "metadata": {},
   "outputs": [],
   "source": []
  },
  {
   "cell_type": "code",
   "execution_count": 72,
   "metadata": {},
   "outputs": [
    {
     "name": "stdout",
     "output_type": "stream",
     "text": [
      "(260809, 75)\n",
      "(260809, 75)\n"
     ]
    }
   ],
   "source": [
    "# stage cost matrix (T * numStates x numActions)\n",
    "\n",
    "inf = 1e10\n",
    "\n",
    "rows = []\n",
    "cols = []\n",
    "values = []\n",
    "\n",
    "g_ROWS = T * numStates + 1\n",
    "g_COLS = numActions\n",
    "\n",
    "for t in range(T):\n",
    "    visible_states = actions[t].keys()\n",
    "    for s in range(numStates):\n",
    "        if i2s[s] in visible_states:\n",
    "            row = global_col_P(t, s)\n",
    "            for a in range(numActions): # need to iterate over all actions, not just neighbors_ts!\n",
    "                rows.append(row)\n",
    "                cols.append(a)\n",
    "                values.append(costs[t].get((i2s[s], a), inf)) # cost is inf if action is not feasible\n",
    "    \n",
    "        else: # fill row with inf\n",
    "            row = global_col_P(t, s)\n",
    "            for a in range(numActions):\n",
    "                rows.append(row)\n",
    "                cols.append(a)\n",
    "                values.append(inf)\n",
    "\n",
    "# absorbing state\n",
    "rows.extend([T*numStates] * numActions)\n",
    "cols.extend([i for i in range(numActions)])\n",
    "values.extend([0] * numActions)\n",
    "\n",
    "g_coo = sp.coo_matrix((values, (rows, cols)), dtype=np.float64, shape=(g_ROWS, g_COLS))\n",
    "print(g_coo.shape)\n",
    "stageCostMatrix = g_coo.tocsr()\n",
    "print(stageCostMatrix.shape)"
   ]
  },
  {
   "cell_type": "code",
   "execution_count": 79,
   "metadata": {},
   "outputs": [
    {
     "name": "stdout",
     "output_type": "stream",
     "text": [
      "(271675, 75)\n",
      "(271675, 75)\n"
     ]
    }
   ],
   "source": [
    "# stage cost matrix (T * numStates x numActions)\n",
    "\n",
    "inf = 1e10\n",
    "\n",
    "rows = []\n",
    "cols = []\n",
    "values = []\n",
    "\n",
    "g_ROWS = (T+1) * numStates\n",
    "g_COLS = numActions\n",
    "\n",
    "for t in range(T+1):\n",
    "    if t == T: # absorbing state (cost 0)\n",
    "        for s in range(numStates):\n",
    "            row = global_col_P(t, s)\n",
    "            for a in range(numActions):\n",
    "                rows.append(row)\n",
    "                cols.append(a)\n",
    "                values.append(0)\n",
    "    else:\n",
    "        visible_states = actions[t].keys()\n",
    "        for s in range(numStates):\n",
    "            if i2s[s] in visible_states:\n",
    "                row = global_col_P(t, s)\n",
    "                for a in range(numActions): # need to iterate over all actions, not just neighbors_ts!\n",
    "                    rows.append(row)\n",
    "                    cols.append(a)\n",
    "                    values.append(costs[t].get((i2s[s], a), inf)) # cost is inf if action is not feasible\n",
    "        \n",
    "            else: # fill row with inf\n",
    "                row = global_col_P(t, s)\n",
    "                for a in range(numActions):\n",
    "                    rows.append(row)\n",
    "                    cols.append(a)\n",
    "                    values.append(inf)\n",
    "\n",
    "g_coo = sp.coo_matrix((values, (rows, cols)), dtype=np.float64, shape=(g_ROWS, g_COLS))\n",
    "print(g_coo.shape)\n",
    "stageCostMatrix = g_coo.tocsr()\n",
    "print(stageCostMatrix.shape)"
   ]
  },
  {
   "cell_type": "code",
   "execution_count": 15,
   "metadata": {},
   "outputs": [
    {
     "name": "stdout",
     "output_type": "stream",
     "text": [
      "dict_keys([5413, 5368, 5369, 5370, 14454, 14455, 14456, 4224, 4225, 5379, 5380, 5390, 5391, 5401, 5402, 3565, 3566, 5412, 4379, 4380, 5423, 5424, 3675, 3676, 5434, 5435, 4226, 5381, 5392, 5403, 3568, 5414, 4382, 5425, 3678, 5436, 4227, 5382, 5393, 5404, 3570, 5415, 4384, 5426, 3680, 5437, 8888, 8889, 12463, 12464, 8890, 12465, 8891, 12466, 4180, 4183, 10681, 10682, 10692, 10693, 4185, 10683, 10694, 12430, 12431, 12441, 12442, 12452, 12453, 12432, 12443, 12454, 8877, 8878, 8879, 3564, 3567, 11496, 11497, 3569, 11499, 4378, 4381, 89, 90, 7107, 7108, 8305, 8306, 4383, 92, 7110, 8307, 7810, 7811, 3597, 3598, 7812, 3599, 3674, 3677, 3679, 11495, 11498, 11500, 4187, 5371, 10684, 10695, 12433, 12444, 12455, 8880, 3571, 11501, 14457, 4385, 94, 7112, 8308, 7813, 3600, 3681, 11502, 4189, 5372, 10685, 5405, 10696, 4386, 12434, 8892, 12445, 12456, 8881, 4228, 3682, 3573, 11503, 14458, 4387, 96, 5383, 7114, 8309, 7814, 3601, 3683, 11504, 4202, 4203, 4204, 2068, 2069, 2070, 4205, 2071, 5394, 4206, 2072, 4181, 4182, 3707, 3708, 4213, 4214, 4235, 4236, 4184, 3709, 4215, 4237, 2882, 2883, 2884, 4186, 3710, 4216, 4238, 2885, 8899, 8900, 8901, 8902, 3586, 3587, 3608, 3609, 3588, 3610, 8284, 8285, 8287, 3589, 3611, 8289, 4400, 4401, 4402, 88, 91, 1155, 1156, 5522, 5523, 5533, 5534, 5544, 5545, 2047, 2048, 2717, 2718, 5555, 5556, 93, 1157, 5524, 5535, 5546, 2050, 2719, 5557, 7106, 7109, 1166, 1167, 12760, 12763, 13783, 13784, 13794, 13795, 13805, 13806, 7111, 1168, 12765, 13785, 13796, 13807, 8283, 8286, 7480, 7481, 13838, 13839, 8288, 7482, 13840, 4403, 95, 1158, 5525, 5536, 5547, 2052, 2720, 5558, 7113, 1169, 12767, 13786, 13797, 13808, 8290, 7483, 13841, 5038, 5039, 14905, 14906, 5040, 14907, 5041, 14908, 3696, 3697, 3698, 3699, 4188, 3711, 4217, 4239, 3572, 5416, 5427, 5438, 2886, 12467, 8903, 3590, 3612, 8291, 4404, 97, 1159, 5526, 5537, 5548, 2054, 2721, 5559, 7115, 1170, 12769, 13787, 13798, 13809, 8292, 7484, 13842, 5042, 14909, 3700, 4190, 3712, 4207, 4218, 4229, 4240, 5384, 5395, 5406, 3574, 5417, 4388, 5428, 3684, 5439, 2887, 5373, 8882, 8893, 12435, 4389, 98, 7116, 8310, 12468, 10697, 14459, 12446, 2073, 8904, 4191, 10686, 3685, 7815, 3591, 3602, 3613, 11506, 8293, 4405, 99, 1160, 5527, 5538, 5549, 2056, 2722, 5560, 7117, 1171, 12771, 13788, 13799, 13810, 8294, 7485, 13843, 3575, 11505, 5043, 14910, 3701, 2046, 2049, 2684, 2687, 2255, 2256, 2051, 2689, 2257, 2053, 2691, 2258, 2055, 2693, 2259, 12457, 2057, 2695, 2260, 9350, 9351, 9352, 5006, 5007, 2860, 2861, 3729, 3730, 12761, 12762, 12265, 12266, 11363, 11364, 5009, 2862, 3731, 12764, 12267, 11365, 5049, 5050, 5060, 5061, 1992, 1993, 5071, 5072, 5051, 5062, 1995, 5073, 9353, 5011, 2863, 3732, 12766, 12268, 11366, 5052, 5063, 1997, 5074, 2838, 2841, 2843, 2845, 9354, 5013, 2864, 3733, 12768, 12269, 11367, 5053, 5064, 1999, 5075, 2847, 4631, 4634, 5489, 5492, 5490, 5491, 12309, 12310, 7051, 7052, 3279, 3280, 6226, 6227, 14091, 14092, 14806, 14807, 9438, 9439, 14894, 14895, 12496, 12497, 7073, 7074, 6149, 6150, 13035, 13036, 12474, 12475, 10351, 10352, 4636, 5494, 5493, 12311, 7053, 3282, 6228, 14093, 14808, 9440, 14896, 12498, 7075, 6151, 13037, 12476, 10353, 15015, 15016, 15017, 4638, 5496, 5495, 12312, 7054, 3284, 6229, 14094, 14809, 9441, 14897, 12499, 7076, 6152, 13038, 12477, 10354, 15018, 4640, 5498, 5497, 12313, 7055, 3286, 6230, 14095, 14810, 9442, 14898, 12500, 7077, 6153, 13039, 12478, 10355, 15019, 14949, 14950, 14951, 14952, 7161, 7162, 7163, 7469, 7470, 7711, 7712, 7471, 7713, 2685, 2686, 2688, 11737, 11740, 2223, 2224, 13563, 13564, 2244, 2245, 11742, 2226, 13565, 2246, 7164, 7472, 7714, 2690, 11744, 2228, 13566, 2247, 5467, 5468, 5469, 1288, 1289, 1291, 5470, 1293, 8316, 8317, 5511, 5512, 8318, 5513, 396, 397, 398, 14069, 14070, 14071, 8319, 5514, 399, 14072, 14953, 7165, 7473, 7715, 2692, 11746, 2230, 13567, 2248, 5471, 1295, 8320, 5515, 400, 14073, 5005, 5008, 2839, 2840, 10329, 10330, 13618, 13619, 3322, 3323, 3718, 3719, 9636, 9637, 2871, 2872, 5010, 2842, 10331, 13620, 3324, 3720, 9638, 2873, 5012, 2844, 10332, 13621, 3325, 3721, 9639, 2874, 5014, 2846, 10333, 13622, 3326, 3722, 9640, 2875, 9355, 5015, 2865, 3734, 12770, 12270, 11368, 5054, 5065, 2001, 5076, 2849, 4642, 5500, 5499, 12314, 7056, 3288, 6231, 14096, 14811, 9443, 14899, 12501, 7078, 6154, 13040, 12479, 10356, 15020, 14954, 7166, 7474, 7716, 2694, 11748, 2232, 13568, 2249, 5472, 1297, 8321, 5516, 401, 14074, 5016, 2848, 10334, 13623, 3327, 3723, 9641, 2876, 4193, 9356, 4208, 3687, 5017, 2866, 3735, 12772, 12271, 11369, 8894, 4192, 5055, 5066, 5044, 2003, 5077, 5374, 10687, 5407, 10698, 4390, 12436, 12447, 12458, 8883, 4230, 3686, 3577, 11507, 14460, 4391, 100, 5385, 7118, 8311, 7816, 3603, 11508, 2851, 5396, 3576, 5418, 5429, 5440, 8905, 12469, 4406, 101, 1161, 5528, 5539, 5550, 2058, 2723, 5561, 7119, 1172, 12773, 13789, 13800, 13811, 8296, 8295, 7486, 13844, 2074, 2059, 2697, 2261, 3713, 4219, 4241, 2888, 3702, 4644, 5502, 5501, 12315, 7057, 3290, 6232, 14097, 14812, 9444, 14900, 12502, 7079, 6155, 13041, 12480, 14911, 10357, 15021, 3614, 3592, 14955, 7167, 7475, 7717, 2696, 11750, 2234, 13569, 2250, 5473, 1299, 8322, 5517, 402, 14075, 5018, 2850, 10335, 13624, 3328, 3724, 9642, 2877, 2706, 2707, 2708, 2222, 2225, 2227, 2709, 2229, 2710, 2231, 2711, 2233, 2712, 2235])\n",
      "3999\n",
      "  (0, 0)\t16.0\n",
      "  (0, 1)\t0.0\n",
      "  (0, 2)\t16.0\n",
      "  (0, 3)\t11.0\n",
      "  (0, 4)\t16.0\n",
      "  (0, 5)\t11.0\n",
      "  (0, 6)\t16.0\n",
      "  (0, 7)\t10000000000.0\n",
      "  (0, 8)\t10000000000.0\n",
      "  (0, 9)\t10000000000.0\n",
      "  (0, 10)\t10000000000.0\n",
      "  (0, 11)\t10000000000.0\n",
      "  (0, 12)\t10000000000.0\n",
      "  (0, 13)\t10000000000.0\n",
      "  (0, 14)\t10000000000.0\n",
      "  (0, 15)\t10000000000.0\n",
      "  (0, 16)\t10000000000.0\n",
      "  (0, 17)\t10000000000.0\n",
      "  (0, 18)\t10000000000.0\n",
      "  (0, 19)\t10000000000.0\n",
      "  (0, 20)\t10000000000.0\n",
      "  (0, 21)\t10000000000.0\n",
      "  (0, 22)\t10000000000.0\n",
      "  (0, 23)\t10000000000.0\n",
      "  (0, 24)\t10000000000.0\n",
      "  :\t:\n",
      "  (0, 50)\t10000000000.0\n",
      "  (0, 51)\t10000000000.0\n",
      "  (0, 52)\t10000000000.0\n",
      "  (0, 53)\t10000000000.0\n",
      "  (0, 54)\t10000000000.0\n",
      "  (0, 55)\t10000000000.0\n",
      "  (0, 56)\t10000000000.0\n",
      "  (0, 57)\t10000000000.0\n",
      "  (0, 58)\t10000000000.0\n",
      "  (0, 59)\t10000000000.0\n",
      "  (0, 60)\t10000000000.0\n",
      "  (0, 61)\t10000000000.0\n",
      "  (0, 62)\t10000000000.0\n",
      "  (0, 63)\t10000000000.0\n",
      "  (0, 64)\t10000000000.0\n",
      "  (0, 65)\t10000000000.0\n",
      "  (0, 66)\t10000000000.0\n",
      "  (0, 67)\t10000000000.0\n",
      "  (0, 68)\t10000000000.0\n",
      "  (0, 69)\t10000000000.0\n",
      "  (0, 70)\t10000000000.0\n",
      "  (0, 71)\t10000000000.0\n",
      "  (0, 72)\t10000000000.0\n",
      "  (0, 73)\t10000000000.0\n",
      "  (0, 74)\t10000000000.0\n"
     ]
    }
   ],
   "source": [
    "# print last row of stage cost matrix\n",
    "print(actions[T-1].keys())\n",
    "print(s2i[5413])\n",
    "print(stageCostMatrix[(T-1)*numStates + s2i[5413]])"
   ]
  },
  {
   "cell_type": "markdown",
   "metadata": {},
   "source": [
    "Save transition probabilities and stage costs in PETSc binary format"
   ]
  },
  {
   "cell_type": "code",
   "execution_count": 85,
   "metadata": {},
   "outputs": [],
   "source": [
    "from save_matrix import *\n",
    "import os\n",
    "\n",
    "# write transition probability tensor\n",
    "if not os.path.exists(\"data\"):\n",
    "    os.makedirs(\"data\")\n",
    "\n",
    "path_P = os.path.join(\"data\", f\"{flight_index}_P_NEW.bin\")\n",
    "path_g = os.path.join(\"data\", f\"{flight_index}_g_NEW.bin\")\n",
    "\n",
    "#writeBinarySparseMatrix(transitionProbabilityTensor, path_P)\n",
    "#writeBinaryDenseMatrix(stageCostMatrix, path_g)"
   ]
  },
  {
   "cell_type": "markdown",
   "metadata": {},
   "source": [
    "# Run inexact Policy Iteration"
   ]
  },
  {
   "cell_type": "code",
   "execution_count": 86,
   "metadata": {},
   "outputs": [
    {
     "name": "stdout",
     "output_type": "stream",
     "text": [
      "../build/distributed_inexact_policy_iteration -mat_type mpiaij -pc_type none -ksp_type gmres -mode MINCOST -maxIter_PI 30 -maxIter_KSP 1000 -numPIRuns 1 -rtol_KSP 0.0001 -atol_PI 1e-10 -states 260809 -actions 75 -discountFactor 0.99 -file_P data/0_P_NEW.bin -file_g data/0_g_NEW.bin -file_stats out/0_stats_NEW.json -file_policy out/0_policy_NEW.out -file_cost out/0_cost_NEW.out\n"
     ]
    }
   ],
   "source": [
    "flags = [\n",
    "    \"-mat_type\", \"mpiaij\",\n",
    "    \"-pc_type\", \"none\",\n",
    "    \"-ksp_type\", \"gmres\",\n",
    "    \"-mode\", \"MINCOST\",\n",
    "    \"-maxIter_PI\", str(30),\n",
    "    \"-maxIter_KSP\", str(1000),\n",
    "    \"-numPIRuns\", str(1),\n",
    "    \"-rtol_KSP\", str(1e-4),\n",
    "    \"-atol_PI\", str(1e-10),\n",
    "    \"-states\", str(numStates*T+1),\n",
    "    \"-actions\", str(numActions),\n",
    "    \"-discountFactor\", str(0.99),\n",
    "    \"-file_P\", path_P,\n",
    "    \"-file_g\", path_g,\n",
    "    \"-file_stats\", os.path.join(\"out\", f\"{flight_index}_stats_NEW.json\"),\n",
    "    \"-file_policy\", os.path.join(\"out\", f\"{flight_index}_policy_NEW.out\"),\n",
    "    \"-file_cost\", os.path.join(\"out\", f\"{flight_index}_cost_NEW.out\")\n",
    "]\n",
    "\n",
    "if not os.path.exists(\"out\"):\n",
    "    os.makedirs(\"out\")\n",
    "\n",
    "executable = \"distributed_inexact_policy_iteration\"\n",
    "executable_path = os.path.join(\"..\", \"build\", executable)\n",
    "\n",
    "cpus = 1\n",
    "#cmd = [\"mpirun\", \"-n\", str(cpus), \"--report-bindings\", executable_path, *flags]\n",
    "cmd = [executable_path, *flags]\n",
    "print(\" \".join(cmd))\n"
   ]
  },
  {
   "cell_type": "code",
   "execution_count": 87,
   "metadata": {},
   "outputs": [
    {
     "name": "stdout",
     "output_type": "stream",
     "text": [
      "[R0]   setValuesFromOptions  owns 260809 states.\n",
      "[R0]   loadFromBinaryFile  Loading MDP from binary file: data/0_P_NEW.bin, data/0_g_NEW.bin\n",
      "[R0]   loadFromBinaryFile  owns rows 0 to 19560675 of P.\n",
      "[R0]   loadFromBinaryFile  owns rows 0 to 260809 of g.\n",
      "MDP setup + loading took: 4140 ms\n",
      "[R0]   inexactPolicyIteration  Entering inexactPolicyIteration\n",
      "[R0]   inexactPolicyIteration  Iteration 0 residual norm: 9999999999.990000\n",
      "[R0]   inexactPolicyIteration  Iteration 1 residual norm: 28.700100\n",
      "[R0]   inexactPolicyIteration  Iteration 2 residual norm: 34.137618\n",
      "[R0]   inexactPolicyIteration  Iteration 3 residual norm: 24.800500\n",
      "[R0]   inexactPolicyIteration  Iteration 4 residual norm: 12.697177\n",
      "[R0]   inexactPolicyIteration  Iteration 5 residual norm: 5.861296\n",
      "[R0]   inexactPolicyIteration  Iteration 6 residual norm: 5.665156\n",
      "[R0]   inexactPolicyIteration  Iteration 7 residual norm: 2.695505\n",
      "[R0]   inexactPolicyIteration  Iteration 8 residual norm: 0.886385\n",
      "[R0]   inexactPolicyIteration  Iteration 9 residual norm: 0.877521\n",
      "[R0]   inexactPolicyIteration  Iteration 10 residual norm: 0.868746\n",
      "[R0]   inexactPolicyIteration  Iteration 11 residual norm: 0.860058\n",
      "[R0]   inexactPolicyIteration  Iteration 12 residual norm: 0.000000\n",
      "[R0]   inexactPolicyIteration  Iteration 13 residual norm: 0.000000\n",
      "iPI took: 32457 ms\n",
      "Writing took: 277 ms\n"
     ]
    },
    {
     "data": {
      "text/plain": [
       "CompletedProcess(args=['../build/distributed_inexact_policy_iteration', '-mat_type', 'mpiaij', '-pc_type', 'none', '-ksp_type', 'gmres', '-mode', 'MINCOST', '-maxIter_PI', '30', '-maxIter_KSP', '1000', '-numPIRuns', '1', '-rtol_KSP', '0.0001', '-atol_PI', '1e-10', '-states', '260809', '-actions', '75', '-discountFactor', '0.99', '-file_P', 'data/0_P_NEW.bin', '-file_g', 'data/0_g_NEW.bin', '-file_stats', 'out/0_stats_NEW.json', '-file_policy', 'out/0_policy_NEW.out', '-file_cost', 'out/0_cost_NEW.out'], returncode=0)"
      ]
     },
     "execution_count": 87,
     "metadata": {},
     "output_type": "execute_result"
    }
   ],
   "source": [
    "import subprocess\n",
    "subprocess.run(cmd)"
   ]
  },
  {
   "cell_type": "code",
   "execution_count": null,
   "metadata": {},
   "outputs": [],
   "source": []
  }
 ],
 "metadata": {
  "kernelspec": {
   "display_name": "base",
   "language": "python",
   "name": "python3"
  },
  "language_info": {
   "codemirror_mode": {
    "name": "ipython",
    "version": 3
   },
   "file_extension": ".py",
   "mimetype": "text/x-python",
   "name": "python",
   "nbconvert_exporter": "python",
   "pygments_lexer": "ipython3",
   "version": "3.11.4"
  },
  "orig_nbformat": 4
 },
 "nbformat": 4,
 "nbformat_minor": 2
}
