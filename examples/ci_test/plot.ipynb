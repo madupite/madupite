{
 "cells": [
  {
   "cell_type": "code",
   "execution_count": null,
   "metadata": {},
   "outputs": [],
   "source": [
    "import numpy as np\n",
    "import matplotlib.pyplot as plt"
   ]
  },
  {
   "cell_type": "code",
   "execution_count": null,
   "metadata": {},
   "outputs": [],
   "source": [
    "# policy plot\n",
    "# 0 = stay (dot)\n",
    "# 1 = left (left arrow)\n",
    "# 2 = right (right arrow)\n",
    "\n",
    "reward = np.loadtxt(\"../build/ci_reward.out\")\n",
    "policy = np.loadtxt(\"../build/ci_policy.out\")\n",
    "\n",
    "# plot for each state (x axis)\n",
    "for i in range(policy.shape[0]):\n",
    "    if policy[i] == 0:\n",
    "        plt.plot(i, reward[i], 'o', color='tab:green')\n",
    "    elif policy[i] == 1:\n",
    "        plt.plot(i, reward[i], '<', color='tab:orange')\n",
    "    elif policy[i] == 2:\n",
    "        plt.plot(i, reward[i], '>', color='tab:blue')"
   ]
  }
 ],
 "metadata": {
  "kernelspec": {
   "display_name": "madupiteenv",
   "language": "python",
   "name": "python3"
  },
  "language_info": {
   "codemirror_mode": {
    "name": "ipython",
    "version": 3
   },
   "file_extension": ".py",
   "mimetype": "text/x-python",
   "name": "python",
   "nbconvert_exporter": "python",
   "pygments_lexer": "ipython3",
   "version": "3.12.2"
  }
 },
 "nbformat": 4,
 "nbformat_minor": 2
}
