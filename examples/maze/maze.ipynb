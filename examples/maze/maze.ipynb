{
    "cells": [
    {
      "cell_type": "code",
      "execution_count": null,
      "metadata": {},
      "outputs": [],
      "source": [
        "import numpy as np\n",
        "import matplotlib.pyplot as plt\n",
        "import random\n",
        "from scipy.sparse import csr_matrix\n",
        "from matplotlib.colors import LinearSegmentedColormap"
      ]
    },
    {
      "cell_type": "code",
      "execution_count": null,
      "metadata": {},
      "outputs": [],
      "source": [
        "def generate_maze(width, height, density):\n",
        "    # Initialize the maze with walls\n",
        "    maze = np.ones((height, width), dtype=np.int8)\n",
        "    \n",
        "    # Function to carve paths in the maze\n",
        "    def carve(x, y):\n",
        "        directions = [(2, 0), (-2, 0), (0, 2), (0, -2)]\n",
        "        random.shuffle(directions)\n",
        "        for dx, dy in directions:\n",
        "            nx, ny = x + dx, y + dy\n",
        "            if 1 <= nx < width - 1 and 1 <= ny < height - 1 and maze[ny][nx] == 1:\n",
        "                maze[ny][nx] = 0\n",
        "                maze[ny - dy//2][nx - dx//2] = 0\n",
        "                carve(nx, ny)\n",
        "    \n",
        "    # Start carving from the top-left corner\n",
        "    start_x, start_y = 1, 1\n",
        "    maze[start_y][start_x] = 0\n",
        "    carve(start_x, start_y)\n",
        "    \n",
        "    # Ensure the entrance and exit are open\n",
        "    maze[1][0] = 0  # Entrance\n",
        "    maze[height-2][width-1] = 0  # Exit\n",
        "    \n",
        "    # Add extra walls based on the density\n",
        "    wall_count = int(density * (width * height) // 2)\n",
        "    for _ in range(wall_count):\n",
        "        wx, wy = random.randint(1, width - 2), random.randint(1, height - 2)\n",
        "        if maze[wy][wx] == 0:\n",
        "            maze[wy][wx] = 1\n",
        "    \n",
        "    return maze"
      ]
    },
    {
      "cell_type": "code",
      "execution_count": null,
      "metadata": {},
      "outputs": [],
      "source": [
        "def visualize_maze(maze):\n",
        "    plt.figure(figsize=(10, 10))\n",
        "    plt.imshow(maze, cmap='binary')\n",
        "    plt.xticks([]), plt.yticks([])  # Hide the axis\n",
        "    # plt.show()\n",
        "    plt.savefig(\"maze.pdf\")"
      ]
    },
    {
      "cell_type": "code",
      "execution_count": null,
      "metadata": {},
      "outputs": [],
      "source": [
        "def write_dense_matrix_as_petsc_binary(matrix, filename):\n",
        "    \"\"\"write dense matrix in petsc binary format\n",
        "\n",
        "    Args:\n",
        "        matrix (ndarray): 2d-array to be written\n",
        "        filename (string): filename\n",
        "    \"\"\"\n",
        "    # Convert the dense matrix to CSR format\n",
        "    sparse_matrix = csr_matrix(matrix)\n",
        "    sparse_matrix.sort_indices()\n",
        "\n",
        "    with open(filename, \"wb\") as f:\n",
        "        f.write(b\"\\x00\\x12\\x7b\\x50\")  # PETSc binary matrix class id\n",
        "        f.write(np.array(sparse_matrix.shape, dtype=\">i\").tobytes())  # rows and cols\n",
        "        f.write(np.array(sparse_matrix.nnz, dtype=\">i\").tobytes())  # nnz\n",
        "        f.write(np.array(np.diff(sparse_matrix.indptr), dtype=\">i\").tobytes())  # row pointer\n",
        "        f.write(np.array(sparse_matrix.indices, dtype=\">i\").tobytes())  # column indices\n",
        "        f.write(np.array(sparse_matrix.data, dtype=\">d\").tobytes())  # values\n",
        "\n",
        "    # with open(filename + \".info\", \"wb\") as f:\n",
        "    #     pass  # avoid PETSc complaints"
      ]
    },
    {
      "cell_type": "code",
      "execution_count": null,
      "metadata": {},
      "outputs": [],
      "source": [
        "def maze2stagecosts(maze):\n",
        "    # Exit has cost of -100\n",
        "    # Walls have cost of np.inf\n",
        "    # all other 0\n",
        "    # copy maze to dtype double\n",
        "    stage_costs = maze.astype(np.float64)\n",
        "    stage_costs[stage_costs == 1] = 1e20\n",
        "    stage_costs[stage_costs == 0] = 0.0\n",
        "    stage_costs[height-2][width-1] = -100.0\n",
        "\n",
        "    # state index = row-major index\n",
        "    # flatten to vector in row-major order\n",
        "    stage_costs = stage_costs.flatten()\n",
        "\n",
        "    # stack vector horizontally to form a matrix (n x 5) [stay, north, east, south, west]\n",
        "    stage_costs = np.stack([stage_costs, stage_costs, stage_costs, stage_costs, stage_costs], axis=1)\n",
        "\n",
        "    return stage_costs"
      ]
    },
    {
      "cell_type": "markdown",
      "metadata": {},
      "source": [
        "### Input here"
      ]
    },
    {
      "cell_type": "code",
      "execution_count": null,
      "metadata": {},
      "outputs": [],
      "source": [
        "width = 25\n",
        "height = 25\n",
        "density = 0\n",
        "\n",
        "# Ensure the width and height are odd\n",
        "if width % 2 == 0:\n",
        "    width += 1\n",
        "if height % 2 == 0:\n",
        "    height += 1\n",
        "\n",
        "maze = generate_maze(width, height, density)\n",
        "visualize_maze(maze)"
      ]
    },
    {
      "cell_type": "code",
      "execution_count": null,
      "metadata": {},
      "outputs": [],
      "source": [
        "g = maze2stagecosts(maze)\n"
      ]
    },
    {
      "cell_type": "code",
      "execution_count": null,
      "metadata": {},
      "outputs": [],
      "source": [
        "write_dense_matrix_as_petsc_binary(g, f\"data/maze_{width}x{height}.bin\")"
      ]
    },
    {
      "cell_type": "markdown",
      "metadata": {},
      "source": [
        "### Postprocessing"
      ]
    },
    {
      "cell_type": "code",
      "execution_count": null,
      "metadata": {},
      "outputs": [],
      "source": [
        "# Read the cost data and reshape to 2D matrix\n",
        "costs = np.loadtxt(\"maze_cost.out\").reshape(height, width)\n",
        "\n",
        "# Read the policy data and reshape to 2D matrix\n",
        "policy = np.loadtxt(\"maze_policy.out\").reshape(height, width)\n",
        "\n",
        "# Mask or threshold the wall costs\n",
        "wall_cost_threshold = 1e10  # Define a threshold for wall costs\n",
        "wall_mask = costs >= wall_cost_threshold\n",
        "costs_masked = np.ma.masked_where(wall_mask, costs)\n",
        "\n",
        "# Optionally, clip the costs to the desired range\n",
        "min_cost, max_cost = -10000, -5000\n",
        "costs_clipped = np.clip(costs_masked, min_cost, max_cost)\n",
        "\n",
        "# Define the arrow directions for the policy\n",
        "directions = {\n",
        "    0: (0, 0),   # stay\n",
        "    1: (-1, 0),  # north\n",
        "    2: (0, 1),   # east\n",
        "    3: (1, 0),   # south\n",
        "    4: (0, -1)   # west\n",
        "}\n",
        "\n",
        "# Create a grid of coordinates\n",
        "X, Y = np.meshgrid(np.arange(width), np.arange(height))\n",
        "\n",
        "# Create arrays for the arrow directions\n",
        "U = np.zeros_like(policy, dtype=float)\n",
        "V = np.zeros_like(policy, dtype=float)\n",
        "\n",
        "for action, (dy, dx) in directions.items():\n",
        "    mask = (policy == action)\n",
        "    U[mask] = dx\n",
        "    V[mask] = dy\n",
        "\n",
        "# Mask the arrows where there are walls\n",
        "U = np.ma.masked_where(wall_mask, U)\n",
        "V = np.ma.masked_where(wall_mask, V)\n",
        "\n",
        "# Create a custom colormap from fully transparent to black\n",
        "colors = [(0, 0, 0, 0), (0, 0, 0, 1)]  # RGBA for transparent to black\n",
        "n_bins = 100  # Use 100 discrete levels\n",
        "cmap_name = 'transparent_to_black'\n",
        "cm = LinearSegmentedColormap.from_list(cmap_name, colors, N=n_bins)\n",
        "\n",
        "# Visualize the costs\n",
        "plt.figure(figsize=(10, 10))\n",
        "\n",
        "# Overlay black walls first with the custom colormap\n",
        "plt.imshow(wall_mask, cmap=cm, interpolation='none', zorder=0)\n",
        "\n",
        "# Then, overlay the costs\n",
        "plt.imshow(costs_clipped, cmap='viridis', interpolation='none', zorder=1)\n",
        "plt.colorbar(label='Costs')\n",
        "plt.title('Maze Costs and Policy Visualization')\n",
        "plt.xticks([]), plt.yticks([])  # Hide the axis\n",
        "\n",
        "# Finally, overlay the policy arrows with smaller size, hiding arrows on walls\n",
        "plt.quiver(X, Y, U, V, color='red', angles='xy', scale_units='xy', scale=4, width=0.007, zorder=2)\n",
        "\n",
        "plt.savefig(\"maze_policy.pdf\")"
      ]
    }
  ],
  "metadata": {
    "language_info": {
      "codemirror_mode": {
        "name": "ipython",
        "version": 3
      },
      "file_extension": ".py",
      "mimetype": "text/x-python",
      "name": "python",
      "nbconvert_exporter": "python",
      "pygments_lexer": "ipython3",
      "version": "3.11.7"
    }
  },
  "nbformat": 4,
  "nbformat_minor": 2
}
