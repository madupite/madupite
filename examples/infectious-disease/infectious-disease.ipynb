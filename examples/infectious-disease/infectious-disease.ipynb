{
 "cells": [
  {
   "cell_type": "code",
   "execution_count": null,
   "metadata": {},
   "outputs": [],
   "source": [
    "import numpy as np\n",
    "from matplotlib import pyplot as plt\n",
    "import matplotlib.colors as mcolors\n",
    "from matplotlib.colors import LinearSegmentedColormap\n",
    "import matplotlib.cm as cm\n",
    "import scipy\n",
    "from scipy.stats import binom # to calculate binomial distribution for transition probabilities\n",
    "from scipy.sparse import csr_matrix, vstack\n",
    "from scipy.sparse.linalg import spsolve\n",
    "\n",
    "import madupite"
   ]
  },
  {
   "cell_type": "code",
   "execution_count": null,
   "metadata": {},
   "outputs": [],
   "source": [
    "class InfectiousDiseaseModel:\n",
    "    def __init__(self, population_size, num_transitions, cf_a1, cf_a2, cq_a1, cq_a2, psi, lambda_, weights):\n",
    "        self.population_size = population_size\n",
    "        self.num_states = population_size + 1 # including state of 0 susceptibles; state = #susceptibles = population_size - #infected\n",
    "        self.num_actions = 5*4 # 5 hygiene levels, 4 social distancing levels\n",
    "        self.num_transitions = num_transitions # number of transitions to consider for each action (such that matrix remains sparse and doesn't have lots of entries in the range of 1e-8)\n",
    "        self.cf_a1 = cf_a1 # financial cost of hygiene measures\n",
    "        self.cf_a2 = cf_a2 # financial cost of social distancing measures\n",
    "        self.cq_a1 = cq_a1 # quality of life impact of hygiene measures (1 = full quality of life, 0 = no quality of life)\n",
    "        self.cq_a2 = cq_a2 # quality of life impact of social distancing measures (1 = full quality of life, 0 = no quality of life)\n",
    "        self.psi = psi # probability that a susceptible person gets infected upon contact with an infected person\n",
    "        self.lambda_ = lambda_ # contact rate per day\n",
    "        self.weights = weights # weights [wf, wq, wh] for cost function (cf, cq, ch)\n",
    "\n",
    "    def a2ij(self, a): # 1d index to 2d index (i = a1 hygiene, j = a2 social distancing)\n",
    "        return a % 5, a // 5\n",
    "\n",
    "    def ch(self, state): # cost of hospitalization (superlinear function of #infected people)\n",
    "        return (self.population_size - state)**1.1\n",
    "\n",
    "    def g(self, state, action):\n",
    "        a1, a2 = self.a2ij(action)\n",
    "        cf = self.cf_a1[a1] + self.cf_a2[a2]\n",
    "        cq = self.cq_a1[a1] * self.cq_a2[a2]\n",
    "        return self.weights[0] * cf - self.weights[1] * cq + self.weights[2] * self.ch(state)\n",
    "\n",
    "    def q(self, state, action):\n",
    "        a1, a2 = self.a2ij(action)\n",
    "        beta = 1.0 - 1.0 * state / self.population_size\n",
    "        return 1 - np.exp(-beta * self.psi[a1] * self.lambda_[a2])\n",
    "\n",
    "    def P(self, state, action):\n",
    "        if state == self.population_size:\n",
    "            return [1.0], [self.population_size]\n",
    "\n",
    "        q_prob = self.q(state, action)\n",
    "        ev = state * q_prob\n",
    "        start = int(max(0, ev - self.num_transitions // 2))\n",
    "        end = int(min(state, ev + self.num_transitions // 2))\n",
    "        \n",
    "        binom_values = binom.pmf(np.arange(start, end + 1), state, q_prob)\n",
    "        sum_binom = np.sum(binom_values)\n",
    "\n",
    "        vals = []\n",
    "        indices = []\n",
    "        for i in range(start, end + 1):\n",
    "            next_state = self.population_size - i\n",
    "            prob = binom_values[i - start] / sum_binom\n",
    "            vals.append(prob)\n",
    "            indices.append(next_state)\n",
    "\n",
    "        return vals, indices\n",
    "\n",
    "\n",
    "    def visualize_transition_probabilities(self):       \n",
    "        cmap_hot_r = plt.get_cmap('hot_r')\n",
    "        newcolors = cmap_hot_r(np.linspace(0.32, 0.75, 1000))\n",
    "        white = np.array([1, 1, 1, 1])\n",
    "        newcolors[0, :] = white\n",
    "        newcmp = mcolors.ListedColormap(newcolors)\n",
    "        \n",
    "        fig, axs = plt.subplots(4, 5, figsize=(20, 16))\n",
    "        \n",
    "        for action in range(self.num_actions):\n",
    "            matrix = np.zeros((self.num_states, self.num_states))\n",
    "            for state in range(self.num_states):\n",
    "                vals, indices = self.P(state, action)\n",
    "                matrix[state, indices] = vals\n",
    "            \n",
    "            i, j = self.a2ij(action)\n",
    "            ax = axs[j, i]\n",
    "            im = ax.imshow(matrix, cmap=newcmp, interpolation='nearest')\n",
    "            ax.set_title(f'Action Index: ({i}, {j}) = {action}')\n",
    "\n",
    "        fig.colorbar(im, ax=axs.ravel().tolist(), shrink=0.6)\n",
    "        plt.show()\n",
    "\n",
    "    def visualize_stage_costs(self):        \n",
    "        stage_cost_matrix = np.array([[self.g(state, action) for state in range(self.num_states)] \n",
    "                                      for action in range(self.num_actions)])\n",
    "        \n",
    "        fig, ax = plt.subplots(figsize=(8, 2))\n",
    "        im = ax.imshow(stage_cost_matrix, cmap='hot_r', interpolation='nearest', aspect='auto')\n",
    "        ax.set_title(\"Stage Cost Matrix\")\n",
    "        fig.colorbar(im, ax=ax, shrink=0.6)\n",
    "        plt.show()"
   ]
  },
  {
   "cell_type": "code",
   "execution_count": null,
   "metadata": {},
   "outputs": [],
   "source": [
    "# parameter\n",
    "population_size = 999\n",
    "num_transitions = 100 # max. number of non-zero entries in transition probability matrix per row\n",
    "\n",
    "psi_hygiene = [0.25, 0.125, 0.08, 0.05, 0.03]\n",
    "cf_hygiene = [0, 1, 5, 6, 9]\n",
    "cq_hygiene = [1, 0.7, 0.5, 0.4, 0.05]\n",
    "\n",
    "lambda_social_distancing = np.array([0.2, 0.16, 0.1, 0.01]) * population_size\n",
    "cf_social_distancing = [0, 1, 10, 30]\n",
    "cq_social_distancing = [1, 0.9, 0.5, 0.1]\n",
    "\n",
    "weights = [5, 20, 0.05] # [wf, wq, wh]\n",
    "\n",
    "# create model\n",
    "idm = InfectiousDiseaseModel(population_size, num_transitions, cf_hygiene, cf_social_distancing, cq_hygiene, cq_social_distancing, psi_hygiene, lambda_social_distancing, weights)"
   ]
  },
  {
   "cell_type": "code",
   "execution_count": null,
   "metadata": {},
   "outputs": [],
   "source": [
    "idm.visualize_stage_costs()"
   ]
  },
  {
   "cell_type": "code",
   "execution_count": null,
   "metadata": {},
   "outputs": [],
   "source": [
    "idm.visualize_transition_probabilities()"
   ]
  },
  {
   "cell_type": "code",
   "execution_count": null,
   "metadata": {},
   "outputs": [],
   "source": [
    "instance = madupite.initialize_madupite()"
   ]
  },
  {
   "cell_type": "code",
   "execution_count": null,
   "metadata": {},
   "outputs": [],
   "source": [
    "prealloc = madupite.MatrixPreallocation()\n",
    "prealloc.o_nz = 101\n",
    "prealloc.d_nz = 101\n",
    "g = madupite.createStageCostMatrix(name=\"g\", numStates=idm.num_states, numActions=idm.num_actions, func=idm.g)\n",
    "P = madupite.createTransitionProbabilityTensor(name=\"P\", numStates=idm.num_states, numActions=idm.num_actions, func=idm.P, preallocation=prealloc)"
   ]
  },
  {
   "cell_type": "code",
   "execution_count": null,
   "metadata": {},
   "outputs": [],
   "source": [
    "mdp = madupite.MDP(instance)\n",
    "mdp.setOption(\"-mode\", \"MINCOST\")\n",
    "mdp.setOption(\"-discount_factor\", \"0.99\")\n",
    "mdp.setOption(\"-max_iter_pi\", \"200\")\n",
    "mdp.setOption(\"-max_iter_ksp\", \"1000\")\n",
    "mdp.setOption(\"-alpha\", \"0.1\")\n",
    "mdp.setOption(\"-atol_pi\", \"1e-8\")\n",
    "mdp.setOption(\"-file_stats\", \"idm_stats.json\")\n",
    "mdp.setOption(\"-file_cost\", \"idm_reward.out\")\n",
    "mdp.setOption(\"-file_policy\", \"idm_policy.out\")\n",
    "mdp.setOption(\"-ksp_type\", \"gmres\")\n",
    "# mdp.setOption(\"-pc_type\", \"svd\") # exact PI"
   ]
  },
  {
   "cell_type": "code",
   "execution_count": null,
   "metadata": {},
   "outputs": [],
   "source": [
    "mdp.setStageCostMatrix(g)\n",
    "mdp.setTransitionProbabilityTensor(P)"
   ]
  },
  {
   "cell_type": "code",
   "execution_count": null,
   "metadata": {},
   "outputs": [],
   "source": [
    "mdp.solve()"
   ]
  }
 ],
 "metadata": {
  "kernelspec": {
   "display_name": "madupiteenv",
   "language": "python",
   "name": "python3"
  },
  "language_info": {
   "codemirror_mode": {
    "name": "ipython",
    "version": 3
   },
   "file_extension": ".py",
   "mimetype": "text/x-python",
   "name": "python",
   "nbconvert_exporter": "python",
   "pygments_lexer": "ipython3",
   "version": "3.12.4"
  }
 },
 "nbformat": 4,
 "nbformat_minor": 2
}
