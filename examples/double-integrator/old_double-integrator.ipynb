{
 "cells": [
  {
   "cell_type": "markdown",
   "metadata": {},
   "source": [
    "# Double integrator\n",
    "\n",
    "The goal is to control the movement of a object on the $x$-axis in order to bring it to a stop at $x = 0$. The state of the object at time $t$ is given by its position $x$ and its velocity $\\dot{x}$, i.e. the vector $\\begin{bmatrix} x_t \\\\ \\dot{x}_t \\end{bmatrix}$. The control input is the acceleration $a$ applied to the object. \n",
    "\n",
    "The dynamics of the object are given by the following differential equation:\n",
    "$$ x_{t+1} = x_t + \\dot{x}_t \\text{d}t $$\n",
    "$$ \\dot{x}_{t+1} = \\dot{x}_t + a_t \\text{d}t$$\n",
    "\n",
    "This example serves to illustrate how to discretize a model with continuous state and action spaces in a way that is compatible with the *madupite* library in order to solve for its optimal control policy."
   ]
  },
  {
   "cell_type": "code",
   "execution_count": null,
   "metadata": {},
   "outputs": [],
   "source": [
    "import numpy as np\n",
    "from scipy.sparse import csr_matrix\n",
    "from matplotlib import pyplot as plt\n",
    "import matplotlib.animation as animation\n",
    "from IPython.display import HTML"
   ]
  },
  {
   "cell_type": "markdown",
   "metadata": {},
   "source": [
    "## Preprocessing\n",
    "\n",
    "We start by declaring a few constants and model parameters."
   ]
  },
  {
   "cell_type": "code",
   "execution_count": null,
   "metadata": {},
   "outputs": [],
   "source": [
    "NUM_X = 61\n",
    "NUM_XD = 71\n",
    "NUM_A = 41\n",
    "MAX_X = 3.0\n",
    "MAX_XD = 4.0\n",
    "MAX_A = 1.0\n",
    "DT = 0.1\n",
    "\n",
    "# derived constants - do not modify\n",
    "NUM_STATES = NUM_X * NUM_XD\n",
    "NUM_ACTIONS = NUM_A\n",
    "\n",
    "x_vals = np.linspace(-MAX_X, MAX_X, NUM_X)\n",
    "xd_vals = np.linspace(-MAX_XD, MAX_XD, NUM_XD)\n",
    "a_vals = np.linspace(-MAX_A, MAX_A, NUM_A)"
   ]
  },
  {
   "cell_type": "markdown",
   "metadata": {},
   "source": [
    "Some helper functions that we need later. We use subscript `i` to denote indices (int) and `v` to denote values (float) as well as `t` ($t$) and `tpp` ($t+1$) for better readability."
   ]
  },
  {
   "cell_type": "code",
   "execution_count": null,
   "metadata": {},
   "outputs": [],
   "source": [
    "def x2s(x, xd):\n",
    "    \"\"\"Convert [x, xd] to 1-dim state (row-major).\"\"\"\n",
    "    return int(x * NUM_XD + xd)\n",
    "\n",
    "def s2x(s):\n",
    "    \"\"\"Convert 1-dim state to [x, xd].\"\"\"\n",
    "    return s // NUM_XD, s % NUM_XD\n",
    "\n",
    "def interpolate(x, y, grid_x, grid_y):\n",
    "    \"\"\"\n",
    "    Bilinear interpolation of a 2D grid at point (x, y).\n",
    "    Returns the indices of the 4 grid points surrounding (x, y) and their weights.\n",
    "    \"\"\"\n",
    "    x_i = np.searchsorted(grid_x, x, side='right')\n",
    "    y_i = np.searchsorted(grid_y, y, side='right')\n",
    "\n",
    "    x_i = np.clip(x_i, 1, len(grid_x) - 1)\n",
    "    y_i = np.clip(y_i, 1, len(grid_y) - 1)\n",
    "\n",
    "    xl_v, xr_v = grid_x[x_i-1], grid_x[x_i]\n",
    "    yl_v, yr_v = grid_y[y_i-1], grid_y[y_i]\n",
    "\n",
    "    wx1 = (x - xl_v) / (xr_v - xl_v)\n",
    "    wx0 = 1 - wx1\n",
    "    wy1 = (y - yl_v) / (yr_v - yl_v)\n",
    "    wy0 = 1 - wy1\n",
    "\n",
    "    indices = [(x_i-1, y_i-1), (x_i, y_i-1), (x_i-1, y_i), (x_i, y_i)]\n",
    "    weights = [wx0*wy0, wx1*wy0, wx0*wy1, wx1*wy1]\n",
    "\n",
    "    return indices, weights"
   ]
  },
  {
   "cell_type": "markdown",
   "metadata": {},
   "source": [
    "Next, we define the model dynamics, i.e. calculate the next state given the current state and action."
   ]
  },
  {
   "cell_type": "code",
   "execution_count": null,
   "metadata": {},
   "outputs": [],
   "source": [
    "def step(s, a):\n",
    "    \"\"\"\n",
    "    Calculate the next state for a given state-action pair.\n",
    "    \n",
    "    Parameters:\n",
    "    s: int, current state index(!) (value in [0, NUM_STATES))\n",
    "    a: int, action index (value in [0, NUM_ACTIONS))\n",
    "\n",
    "    Returns:\n",
    "    x_next, xd_next: float(!), coordinate values of the next state in [-MAX_X, MAX_X] and [-MAX_XD, MAX_XD]\n",
    "    \"\"\"\n",
    "    x_t_i, xd_t_i = s2x(s)\n",
    "    x_t_v = x_vals[x_t_i]\n",
    "    xd_t_v = xd_vals[xd_t_i]\n",
    "    a_t_v = a_vals[a]\n",
    "\n",
    "    x_tpp_v = np.clip(x_t_v + xd_t_v * DT, -MAX_X, MAX_X)\n",
    "    xd_tpp_v = np.clip(xd_t_v + a_t_v * DT, -MAX_XD, MAX_XD)\n",
    "\n",
    "    return x_tpp_v, xd_tpp_v   "
   ]
  },
  {
   "cell_type": "markdown",
   "metadata": {},
   "source": [
    "Now we can construct the transition probability matrix $P$. As described in [TODO], the following indexing scheme is used:\n",
    "$$ (P)_{s\\cdot |\\mathcal{A}|+a, s'} = P(s' | s, a) $$\n",
    "\n",
    "That is, the matrix has the shape $(|\\mathcal{S}|\\cdot |\\mathcal{A}|) \\times |\\mathcal{S}|$. For the sake of efficiency, we will use a sparse matrix representation."
   ]
  },
  {
   "cell_type": "code",
   "execution_count": null,
   "metadata": {},
   "outputs": [],
   "source": [
    "data = []\n",
    "row_idx = []\n",
    "col_idx = []\n",
    "\n",
    "for s_t_i in range(NUM_STATES):\n",
    "    for a_t_i in range(NUM_ACTIONS):\n",
    "        x_tpp_v, xd_tpp_v = step(s_t_i, a_t_i)\n",
    "        indices, weights = interpolate(x_tpp_v, xd_tpp_v, x_vals, xd_vals)\n",
    "\n",
    "        for (x_tpp_i, xd_tpp_i), w in zip(indices, weights):\n",
    "            s_tpp_i = x2s(x_tpp_i, xd_tpp_i)\n",
    "            data.append(w)\n",
    "            row_idx.append(s_t_i * NUM_ACTIONS + a_t_i)\n",
    "            col_idx.append(s_tpp_i)\n",
    "\n",
    "        # Print progress percentage\n",
    "        # if((s * NUM_ACTIONS + a) % 1000 == 0):\n",
    "            # print(f'{(s * NUM_ACTIONS + a) / (NUM_STATES * NUM_ACTIONS) * 100:.2f}%')\n",
    "            # print(f\"{(s * NUM_ACTIONS + a) / (NUM_STATES * NUM_ACTIONS) * 100:.2f}%, ({s * NUM_ACTIONS + a}/{NUM_STATES * NUM_ACTIONS} rows)\", end=\"\\r\", flush=True)\n",
    "\n",
    "P = csr_matrix((data, (row_idx, col_idx)), shape=(NUM_STATES * NUM_ACTIONS, NUM_STATES))\n",
    "\n",
    "print(f\"{min(data)=}, {max(data)=}\")"
   ]
  },
  {
   "cell_type": "markdown",
   "metadata": {},
   "source": [
    "Next, we define the stage cost function. In this case, the goal is to get the object to stop at $x = 0$, i.e. $x = 0$ and $\\dot{x} = 0$. We can define the stage cost as the squared distance to the goal, which makes the function independent of the action.\n",
    "\n",
    "The stage cost matrix $g$ is of dimension $|\\mathcal{S}| \\times |\\mathcal{A}|$."
   ]
  },
  {
   "cell_type": "code",
   "execution_count": null,
   "metadata": {},
   "outputs": [],
   "source": [
    "def stage_cost(x_i, xd_i):\n",
    "    return x_vals[x_i]**2 + xd_vals[xd_i]**2\n",
    "\n",
    "# def stage_cost(x_i, xd_i):\n",
    "#     return 0.0 if (x_vals[x_i]**2 + xd_vals[xd_i]**2) < 0.05 else 1.0\n",
    "\n",
    "g_dense = np.empty((NUM_STATES, NUM_ACTIONS))\n",
    "for s in range(NUM_STATES):\n",
    "    x_t_i, xd_t_i = s2x(s)\n",
    "    for a in range(NUM_ACTIONS):\n",
    "        g_dense[s, a] = stage_cost(x_t_i, xd_t_i)\n",
    "\n",
    "    # Print progress\n",
    "    # print(f\"{(s) / (NUM_STATES) * 100:.2f}%, ({s}/{NUM_STATES} rows)\", end=\"\\r\", flush=True)\n",
    "\n",
    "# convert to CSR (TODO, only until madupite can only load sparse matrices)\n",
    "g = csr_matrix(g_dense)"
   ]
  },
  {
   "cell_type": "markdown",
   "metadata": {},
   "source": [
    "Now we save the matrices to file in order to load them in madupite:"
   ]
  },
  {
   "cell_type": "code",
   "execution_count": null,
   "metadata": {},
   "outputs": [],
   "source": [
    "def write_sparse_matrix_as_petsc_binary(sparse_matrix, filename):\n",
    "    \"\"\"write dense matrix in petsc binary format\n",
    "\n",
    "    Args:\n",
    "        sparse_matrix (csr_matrix): sparse matrix\n",
    "        filename (string): filename\n",
    "    \"\"\"\n",
    "    sparse_matrix.sort_indices()\n",
    "\n",
    "    with open(filename, \"wb\") as f:\n",
    "        f.write(b\"\\x00\\x12\\x7b\\x50\")  # PETSc binary matrix class id\n",
    "        f.write(np.array(sparse_matrix.shape, dtype=\">i\").tobytes())  # rows and cols\n",
    "        f.write(np.array(sparse_matrix.nnz, dtype=\">i\").tobytes())  # nnz\n",
    "        f.write(np.array(np.diff(sparse_matrix.indptr), dtype=\">i\").tobytes())  # row pointer\n",
    "        f.write(np.array(sparse_matrix.indices, dtype=\">i\").tobytes())  # column indices\n",
    "        f.write(np.array(sparse_matrix.data, dtype=\">d\").tobytes())  # values\n",
    "\n",
    "write_sparse_matrix_as_petsc_binary(P, f\"di_P_{NUM_STATES}_{NUM_ACTIONS}.bin\")\n",
    "write_sparse_matrix_as_petsc_binary(g, f\"di_g_{NUM_STATES}_{NUM_ACTIONS}.bin\")\n",
    "\n",
    "print(f\"saved to di_P_{NUM_STATES}_{NUM_ACTIONS}.bin and di_g_{NUM_STATES}_{NUM_ACTIONS}.bin\")\n",
    "\n",
    "# Optionally save as txt to debug/inspect (not recommended for large matrices):\n",
    "# np.savetxt(f\"di_P_{num_states}_{num_actions}.txt\", P.toarray(), fmt=\"%.2f\")\n",
    "# np.savetxt(f\"di_g_{NUM_STATES}_{NUM_ACTIONS}.txt\", g.toarray(), fmt=\"%.2f\")"
   ]
  },
  {
   "cell_type": "markdown",
   "metadata": {},
   "source": [
    "# [Compute with madupite]"
   ]
  },
  {
   "cell_type": "code",
   "execution_count": null,
   "metadata": {},
   "outputs": [],
   "source": [
    "import subprocess\n",
    "import os\n",
    "\n",
    "flags = [\"-file_stats\", \"di_stats.json\", \"-file_cost\", \"di_cost.out\", \"-file_policy\", \"di_policy.out\", \"-num_states\", str(NUM_STATES), \"-num_actions\", str(NUM_ACTIONS)]\n",
    "build_dir = \"/home/robin/repos/madupite/build\"\n",
    "try:\n",
    "    result = subprocess.run([\"./continuous\", *flags], cwd=build_dir, capture_output=True, check=True, text=True)\n",
    "    print(\"Output:\", result.stdout)\n",
    "except subprocess.CalledProcessError as e:\n",
    "    print(\"Error occurred:\")\n",
    "    print(\"Return code:\", e.returncode)\n",
    "    print(\"Output:\", e.output)\n",
    "    print(\"Error output:\", e.stderr)"
   ]
  },
  {
   "cell_type": "markdown",
   "metadata": {},
   "source": [
    "## Postprocessing"
   ]
  },
  {
   "cell_type": "code",
   "execution_count": null,
   "metadata": {},
   "outputs": [],
   "source": [
    "def reshape_data(data, shape):\n",
    "    return np.rot90(data.reshape(shape), k=1)\n",
    "\n",
    "def create_tick_labels(values, num_ticks):\n",
    "    indices = np.linspace(0, len(values) - 1, num_ticks, dtype=int)\n",
    "    return indices, [f\"{val:.2f}\" for val in values[indices]]\n",
    "\n",
    "def plot_heatmap(ax, data, title, x_val, xd_val):\n",
    "    im = ax.imshow(data, cmap='jet', interpolation='nearest')\n",
    "    ax.set_title(title)\n",
    "    ax.set_ylabel(\"$\\dot{x}$\")\n",
    "    ax.set_xlabel(\"$x$\")\n",
    "    \n",
    "    yticks, yticklabels = create_tick_labels(xd_val[::-1], 5)\n",
    "    xticks, xticklabels = create_tick_labels(x_val, 5)\n",
    "    \n",
    "    ax.set_yticks(yticks)\n",
    "    ax.set_xticks(xticks)\n",
    "    ax.set_yticklabels(yticklabels)\n",
    "    ax.set_xticklabels(xticklabels)\n",
    "    \n",
    "    return im"
   ]
  },
  {
   "cell_type": "code",
   "execution_count": null,
   "metadata": {},
   "outputs": [],
   "source": [
    "costs = reshape_data(np.loadtxt(\"../../build/di_cost.out\"), (NUM_X, NUM_XD))\n",
    "policy = np.loadtxt(\"../../build/di_policy.out\", dtype=int)\n",
    "user_input = reshape_data(a_vals[policy], (NUM_X, NUM_XD))\n",
    "\n",
    "# Plotting\n",
    "fig, (ax1, ax2) = plt.subplots(1, 2, figsize=(10, 5))\n",
    "\n",
    "im1 = plot_heatmap(ax1, costs, \"Costs\", x_vals, xd_vals)\n",
    "im2 = plot_heatmap(ax2, user_input, \"Policy\", x_vals, xd_vals)\n",
    "\n",
    "fig.colorbar(im1, ax=ax1)\n",
    "fig.colorbar(im2, ax=ax2)\n",
    "\n",
    "plt.show()"
   ]
  },
  {
   "cell_type": "markdown",
   "metadata": {},
   "source": [
    "## Simulate state trajectory\n",
    "using the optimal policy induced Markov chain."
   ]
  },
  {
   "cell_type": "code",
   "execution_count": null,
   "metadata": {},
   "outputs": [],
   "source": [
    "# create P_pi\n",
    "row_indices = np.arange(NUM_STATES) * NUM_ACTIONS + policy\n",
    "P_pi = P[row_indices, :]\n",
    "\n",
    "def create_initial_state(x_0_v, xd_0_v):\n",
    "    indices, weights = interpolate(x_0_v, xd_0_v, x_vals, xd_vals)\n",
    "    s0 = np.zeros(NUM_STATES)\n",
    "    for (x_i, xd_i), w in zip(indices, weights):\n",
    "        s0[x2s(x_i, xd_i)] = w\n",
    "    return s0\n",
    "\n",
    "def simulate(s0, P_pi, T):\n",
    "    trajectory = []\n",
    "    s = s0\n",
    "    trajectory.append(s2x(np.argmax(s)))\n",
    "    for t in range(T):\n",
    "        s = s.T @ P_pi\n",
    "        trajectory.append(s2x(np.argmax(s))) # round to next discrete state for visualization\n",
    "    return trajectory\n",
    "\n",
    "def create_animation(traj, ax1, ax2):\n",
    "    line1, = ax1.plot([], [], 'r-', lw=2)\n",
    "    line2, = ax2.plot([], [], 'r-', lw=2)\n",
    "    \n",
    "    def init():\n",
    "        line1.set_data([], [])\n",
    "        line2.set_data([], [])\n",
    "        return line1, line2\n",
    "\n",
    "    def animate(i):\n",
    "        x, y = zip(*traj[:i+1])\n",
    "        line1.set_data(x, y)\n",
    "        line2.set_data(x, y)\n",
    "        return line1, line2\n",
    "\n",
    "    return animation.FuncAnimation(ax1.figure, animate, init_func=init, \n",
    "                                   frames=len(traj), interval=500, blit=True)\n"
   ]
  },
  {
   "cell_type": "code",
   "execution_count": null,
   "metadata": {},
   "outputs": [],
   "source": [
    "x_0_v = 1.5\n",
    "xd_0_v = -2.75\n",
    "T = 100\n",
    "\n",
    "s0 = create_initial_state(x_0_v, xd_0_v)\n",
    "trajectory = simulate(s0, P_pi, T)"
   ]
  },
  {
   "cell_type": "code",
   "execution_count": null,
   "metadata": {},
   "outputs": [],
   "source": [
    "ani = create_animation(trajectory, ax1, ax2)\n",
    "HTML(ani.to_jshtml())"
   ]
  }
 ],
 "metadata": {
  "language_info": {
   "codemirror_mode": {
    "name": "ipython",
    "version": 3
   },
   "file_extension": ".py",
   "mimetype": "text/x-python",
   "name": "python",
   "nbconvert_exporter": "python",
   "pygments_lexer": "ipython3",
   "version": "3.11.7"
  }
 },
 "nbformat": 4,
 "nbformat_minor": 2
}
