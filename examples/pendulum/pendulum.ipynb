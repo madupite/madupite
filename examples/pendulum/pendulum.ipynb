{
 "cells": [
  {
   "cell_type": "markdown",
   "metadata": {},
   "source": [
    "# Pendulum\n",
    "\n",
    "The goal is to control the movement of a simple pendulum in order to stabilize it at an upright position (angle $x = \\pi$ and velocity $\\dot{x}=0$). The state of the object at time $t$ is given by its angle $x$ and its velocity $\\dot{x}$, i.e. the vector $\\begin{bmatrix} x_t \\\\ \\dot{x}_t \\end{bmatrix}$. The control input is the torque $a$ applied to the object. \n",
    "\n",
    "The dynamics of the object are given by the following differential equation:\n",
    "$$ x_{t+1} = x_t + \\dot{x}_t \\text{d}t \\ \\text{mod} \\ 2\\pi$$\n",
    "$$ \\dot{x}_{t+1} = \\dot{x}_t + \\ddot{x}_t \\text{d}t $$\n",
    "$$ \\ddot{x}_t = -\\frac{g}{l} \\sin(x_t) + \\frac{1}{ml^2} a_t $$\n",
    "\n",
    "This example serves to illustrate how to discretize a model with continuous state and action spaces in a way that is compatible with the *madupite* library in order to solve for its optimal control policy.\n",
    "\n",
    "The model is taken from and explained in more detail in [Underactuated Robotics, Ch. 7, Russ Tedrake](https://underactuated.csail.mit.edu)."
   ]
  },
  {
   "cell_type": "code",
   "execution_count": null,
   "metadata": {},
   "outputs": [],
   "source": [
    "import numpy as np\n",
    "from scipy.sparse import csr_matrix\n",
    "from matplotlib import pyplot as plt\n",
    "import matplotlib.animation as animation\n",
    "from IPython.display import HTML\n",
    "import madupite as md"
   ]
  },
  {
   "cell_type": "markdown",
   "metadata": {},
   "source": [
    "## Preprocessing\n",
    "\n",
    "We start by declaring a few constants and model parameters."
   ]
  },
  {
   "cell_type": "code",
   "execution_count": null,
   "metadata": {},
   "outputs": [],
   "source": [
    "NUM_X = 151\n",
    "NUM_XD = 151\n",
    "NUM_A = 9\n",
    "MAX_X = 2 * np.pi # angle range [0, MAX_X]\n",
    "MAX_XD = 10.0 # angular velocity range [-MAX_XD, MAX_XD]\n",
    "MAX_A = 3.0 # torque range [-MAX_A, MAX_A]\n",
    "R = 1 # penalty for control effort\n",
    "Q = 2 # penalty for state deviation\n",
    "DT = 0.01 # time step\n",
    "G = 9.81 # gravitational acceleration\n",
    "L = 1.0 # pendulum length\n",
    "M = 1.0 # pendulum mass\n",
    "\n",
    "# derived constants - do not modify\n",
    "NUM_STATES = NUM_X * NUM_XD\n",
    "NUM_ACTIONS = NUM_A\n",
    "\n",
    "x_vals = np.linspace(0, MAX_X, NUM_X) # from 0(!)\n",
    "xd_vals = np.linspace(-MAX_XD, MAX_XD, NUM_XD)\n",
    "a_vals = np.linspace(-MAX_A, MAX_A, NUM_A)"
   ]
  },
  {
   "cell_type": "markdown",
   "metadata": {},
   "source": [
    "Some helper functions that we need later. We use subscript `i` to denote indices (int) and `v` to denote values (float) as well as `t` ($t$) and `tpp` ($t+1$) for better readability."
   ]
  },
  {
   "cell_type": "code",
   "execution_count": null,
   "metadata": {},
   "outputs": [],
   "source": [
    "def x2s(x, xd):\n",
    "    \"\"\"Convert [x, xd] to 1-dim state (row-major).\"\"\"\n",
    "    return int(x * NUM_XD + xd)\n",
    "\n",
    "def s2x(s):\n",
    "    \"\"\"Convert 1-dim state to [x, xd].\"\"\"\n",
    "    return s // NUM_XD, s % NUM_XD\n",
    "\n",
    "def interpolate(x, y, grid_x, grid_y):\n",
    "    \"\"\"\n",
    "    Bilinear interpolation of a 2D grid at point (x, y).\n",
    "    Returns the indices of the 4 grid points surrounding (x, y) and their weights.\n",
    "    \"\"\"\n",
    "    x_i = np.searchsorted(grid_x, x, side='right')\n",
    "    y_i = np.searchsorted(grid_y, y, side='right')\n",
    "\n",
    "    x_i = np.clip(x_i, 1, len(grid_x) - 1)\n",
    "    y_i = np.clip(y_i, 1, len(grid_y) - 1)\n",
    "\n",
    "    xl_v, xr_v = grid_x[x_i-1], grid_x[x_i]\n",
    "    yl_v, yr_v = grid_y[y_i-1], grid_y[y_i]\n",
    "\n",
    "    wx1 = (x - xl_v) / (xr_v - xl_v)\n",
    "    wx0 = 1 - wx1\n",
    "    wy1 = (y - yl_v) / (yr_v - yl_v)\n",
    "    wy0 = 1 - wy1\n",
    "\n",
    "    indices = [(x_i-1, y_i-1), (x_i, y_i-1), (x_i-1, y_i), (x_i, y_i)]\n",
    "    weights = [wx0*wy0, wx1*wy0, wx0*wy1, wx1*wy1]\n",
    "\n",
    "    return indices, weights"
   ]
  },
  {
   "cell_type": "markdown",
   "metadata": {},
   "source": [
    "Next, we define the model dynamics, i.e. calculate the next state given the current state and action."
   ]
  },
  {
   "cell_type": "code",
   "execution_count": null,
   "metadata": {},
   "outputs": [],
   "source": [
    "def step(s, a):\n",
    "    \"\"\"\n",
    "    Calculate the next state for a given state-action pair.\n",
    "    \n",
    "    Parameters:\n",
    "    s: int, current state index(!) (value in [0, NUM_STATES))\n",
    "    a: int, action index (value in [0, NUM_ACTIONS))\n",
    "\n",
    "    Returns:\n",
    "    x_next, xd_next: float(!), coordinate values of the next state in [-MAX_X, MAX_X] and [-MAX_XD, MAX_XD]\n",
    "    \"\"\"\n",
    "    x_t_i, xd_t_i = s2x(s)\n",
    "    x_t_v = x_vals[x_t_i]\n",
    "    xd_t_v = xd_vals[xd_t_i]\n",
    "    a_t_v = a_vals[a]\n",
    "\n",
    "    x_tpp_v = (x_t_v + xd_t_v * DT) % MAX_X # periodc boundary condition!\n",
    "    xdd_t_v = (-G / L * np.sin(x_t_v) + a_t_v  / (M * L**2))\n",
    "    xd_tpp_v = np.clip(xd_t_v + xdd_t_v * DT, -MAX_XD, MAX_XD)\n",
    "\n",
    "    return x_tpp_v, xd_tpp_v   "
   ]
  },
  {
   "cell_type": "markdown",
   "metadata": {},
   "source": [
    "Now we can construct the transition probability function. The function returns the list of possible next states and the corresponding probabilities for a given current state and action."
   ]
  },
  {
   "cell_type": "code",
   "execution_count": null,
   "metadata": {},
   "outputs": [],
   "source": [
    "def transition_probabilities(s_t_i, a_t_i):\n",
    "    x_tpp_v, xd_tpp_v = step(s_t_i, a_t_i)\n",
    "    indices, weights = interpolate(x_tpp_v, xd_tpp_v, x_vals, xd_vals)\n",
    "\n",
    "    return weights, [x2s(x, xd) for x, xd in indices]"
   ]
  },
  {
   "cell_type": "markdown",
   "metadata": {},
   "source": [
    "Next, we define the stage cost function. In this case, the goal is to balance the pendulum at the upright position, i.e. $x = \\pi$ and $\\dot{x} = 0$. Furthermore, we want to minimize the control input and thus add a penalty term for the squared absolute value of the action (torque).\n",
    "\n",
    "The stage cost function is given by:"
   ]
  },
  {
   "cell_type": "code",
   "execution_count": null,
   "metadata": {},
   "outputs": [],
   "source": [
    "def stage_cost(s_t_i, a_t_i):\n",
    "    x_i, xd_i = s2x(s_t_i)\n",
    "    return Q * ((x_vals[x_i] - np.pi)**2 + xd_vals[xd_i]**2) + R * a_vals[a_t_i]**2"
   ]
  },
  {
   "cell_type": "markdown",
   "metadata": {},
   "source": [
    "# Solving the model using madupite"
   ]
  },
  {
   "cell_type": "markdown",
   "metadata": {},
   "source": [
    "We first create the transition probability tensor whose elements are given by the transition probability function above. In order to this efficiently, we first preallocate the tensor: Because of the bilinear interpolation in the 2D space, we have at most 4 entries per row (state-action pair). Hence, we preallocate 4 elements in the diagonal and 4 elements in the off-diagonal. We then fill the tensor with the transition probabilities."
   ]
  },
  {
   "cell_type": "code",
   "execution_count": null,
   "metadata": {},
   "outputs": [],
   "source": [
    "prealloc = md.MatrixPreallocation()\n",
    "prealloc.d_nz = 4\n",
    "prealloc.o_nz = 4\n",
    "\n",
    "P = md.createTransitionProbabilityTensor(\n",
    "    numStates=NUM_STATES,\n",
    "    numActions=NUM_ACTIONS,\n",
    "    func=transition_probabilities,\n",
    "    preallocation=prealloc\n",
    ")"
   ]
  },
  {
   "cell_type": "markdown",
   "metadata": {},
   "source": [
    "We repeat the same for the stage costs. Since this matrix is stored as a dense matrix, no preallocation is necessary."
   ]
  },
  {
   "cell_type": "code",
   "execution_count": null,
   "metadata": {},
   "outputs": [],
   "source": [
    "g = md.createStageCostMatrix(\n",
    "    numStates=NUM_STATES,\n",
    "    numActions=NUM_ACTIONS,\n",
    "    func=stage_cost\n",
    ")"
   ]
  },
  {
   "cell_type": "markdown",
   "metadata": {},
   "source": [
    "Now we can create the MDP object, configure the optimization parameters and finally solve the MDP."
   ]
  },
  {
   "cell_type": "code",
   "execution_count": null,
   "metadata": {},
   "outputs": [],
   "source": [
    "mdp = md.MDP()\n",
    "mdp.setOption(\"-mode\", \"MINCOST\")\n",
    "mdp.setOption(\"-discount_factor\", \"0.999\")\n",
    "mdp.setOption(\"-file_cost\", \"pend_cost.out\")\n",
    "mdp.setOption(\"-file_policy\", \"pend_policy.out\")\n",
    "mdp.setOption(\"-file_stats\", \"pend_stats.json\")\n",
    "mdp.setOption(\"-verbose\", \"true\") # enable console output\n",
    "mdp.setOption(\"-overwrite\", \"true\") # overwrite existing files (so we don't need to adapt the filenames in the plotting script below)\n",
    "\n",
    "mdp.setTransitionProbabilityTensor(P)\n",
    "mdp.setStageCostMatrix(g)\n",
    "\n",
    "mdp.solve()"
   ]
  },
  {
   "cell_type": "markdown",
   "metadata": {},
   "source": [
    "Here you can test various different options that madupite provides. They are listed in the [documentation](https://madupite.github.io/options.html).\n",
    "\n",
    "Note for example (using the plots below) that the we don't achieve the wanted policy with this model if the discount factor is too small (e.g. 0.9)."
   ]
  },
  {
   "cell_type": "markdown",
   "metadata": {},
   "source": [
    "# Plotting the solution"
   ]
  },
  {
   "cell_type": "code",
   "execution_count": null,
   "metadata": {},
   "outputs": [],
   "source": [
    "def reshape_data(data, shape):\n",
    "    return np.rot90(data.reshape(shape), k=1)\n",
    "\n",
    "def create_tick_labels(values, num_ticks):\n",
    "    indices = np.linspace(0, len(values) - 1, num_ticks, dtype=int)\n",
    "    return indices, [f\"{val:.2f}\" for val in values[indices]]\n",
    "\n",
    "def plot_heatmap(ax, data, title, x_val, xd_val):\n",
    "    im = ax.imshow(data, cmap='jet', interpolation='nearest')\n",
    "    ax.set_title(title)\n",
    "    ax.set_ylabel(r\"$\\dot{x}$\")\n",
    "    ax.set_xlabel(r\"$x$\")\n",
    "    \n",
    "    yticks, yticklabels = create_tick_labels(xd_val[::-1], 5)\n",
    "    xticks, xticklabels = create_tick_labels(x_val, 5)\n",
    "    \n",
    "    ax.set_yticks(yticks)\n",
    "    ax.set_xticks(xticks)\n",
    "    ax.set_yticklabels(yticklabels)\n",
    "    ax.set_xticklabels(xticklabels)\n",
    "    \n",
    "    return im"
   ]
  },
  {
   "cell_type": "code",
   "execution_count": null,
   "metadata": {},
   "outputs": [],
   "source": [
    "costs = reshape_data(np.loadtxt(\"pend_cost.out\"), (NUM_X, NUM_XD))\n",
    "policy = np.loadtxt(\"pend_policy.out\", dtype=int)\n",
    "user_input = reshape_data(a_vals[policy], (NUM_X, NUM_XD))\n",
    "\n",
    "# Plotting\n",
    "fig, (ax1, ax2) = plt.subplots(1, 2, figsize=(10, 5))\n",
    "\n",
    "im1 = plot_heatmap(ax1, costs, \"Costs\", x_vals, xd_vals)\n",
    "im2 = plot_heatmap(ax2, user_input, \"Policy\", x_vals, xd_vals)\n",
    "\n",
    "fig.colorbar(im1, ax=ax1)\n",
    "fig.colorbar(im2, ax=ax2)\n",
    "\n",
    "plt.show()"
   ]
  }
 ],
 "metadata": {
  "kernelspec": {
   "display_name": "madupiteenv",
   "language": "python",
   "name": "python3"
  },
  "language_info": {
   "codemirror_mode": {
    "name": "ipython",
    "version": 3
   },
   "file_extension": ".py",
   "mimetype": "text/x-python",
   "name": "python",
   "nbconvert_exporter": "python",
   "pygments_lexer": "ipython3",
   "version": "3.12.5"
  }
 },
 "nbformat": 4,
 "nbformat_minor": 2
}
